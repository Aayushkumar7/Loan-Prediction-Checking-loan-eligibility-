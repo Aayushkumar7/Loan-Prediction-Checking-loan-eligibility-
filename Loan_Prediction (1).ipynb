{
  "nbformat": 4,
  "nbformat_minor": 0,
  "metadata": {
    "colab": {
      "name": "Loan Prediction.ipynb",
      "provenance": [],
      "collapsed_sections": []
    },
    "kernelspec": {
      "display_name": "Python 3",
      "name": "python3"
    }
  },
  "cells": [
    {
      "cell_type": "code",
      "metadata": {
        "id": "ZcEu4Ha5sTE1"
      },
      "source": [
        "#importing libraries\r\n",
        "import pandas as pd\r\n",
        "import numpy as np\r\n",
        "import seaborn as sns\r\n",
        "import matplotlib.pyplot as plt\r\n",
        "import warnings\r\n",
        "warnings.filterwarnings('ignore')"
      ],
      "execution_count": 237,
      "outputs": []
    },
    {
      "cell_type": "code",
      "metadata": {
        "colab": {
          "base_uri": "https://localhost:8080/"
        },
        "id": "Il13YvaB0KHH",
        "outputId": "26eb922b-3ba4-42df-d55d-2414bcf1fde2"
      },
      "source": [
        "from google.colab import drive\r\n",
        "drive.mount('/content/drive')"
      ],
      "execution_count": 83,
      "outputs": [
        {
          "output_type": "stream",
          "text": [
            "Drive already mounted at /content/drive; to attempt to forcibly remount, call drive.mount(\"/content/drive\", force_remount=True).\n"
          ],
          "name": "stdout"
        }
      ]
    },
    {
      "cell_type": "code",
      "metadata": {
        "id": "Vy41IIni0M8b"
      },
      "source": [
        "#importing Dataset\r\n",
        "working_directory = '/content/drive/MyDrive/Dataset/Loan Prediction/'\r\n",
        "train_df = pd.read_csv(working_directory + 'train_ctrUa4K.csv')"
      ],
      "execution_count": 238,
      "outputs": []
    },
    {
      "cell_type": "code",
      "metadata": {
        "colab": {
          "base_uri": "https://localhost:8080/",
          "height": 195
        },
        "id": "a8iAAiRV1Cff",
        "outputId": "268d4c18-bfeb-494f-e820-ea8ee1d02e26"
      },
      "source": [
        "train_df.head()"
      ],
      "execution_count": 85,
      "outputs": [
        {
          "output_type": "execute_result",
          "data": {
            "text/html": [
              "<div>\n",
              "<style scoped>\n",
              "    .dataframe tbody tr th:only-of-type {\n",
              "        vertical-align: middle;\n",
              "    }\n",
              "\n",
              "    .dataframe tbody tr th {\n",
              "        vertical-align: top;\n",
              "    }\n",
              "\n",
              "    .dataframe thead th {\n",
              "        text-align: right;\n",
              "    }\n",
              "</style>\n",
              "<table border=\"1\" class=\"dataframe\">\n",
              "  <thead>\n",
              "    <tr style=\"text-align: right;\">\n",
              "      <th></th>\n",
              "      <th>Loan_ID</th>\n",
              "      <th>Gender</th>\n",
              "      <th>Married</th>\n",
              "      <th>Dependents</th>\n",
              "      <th>Education</th>\n",
              "      <th>Self_Employed</th>\n",
              "      <th>ApplicantIncome</th>\n",
              "      <th>CoapplicantIncome</th>\n",
              "      <th>LoanAmount</th>\n",
              "      <th>Loan_Amount_Term</th>\n",
              "      <th>Credit_History</th>\n",
              "      <th>Property_Area</th>\n",
              "      <th>Loan_Status</th>\n",
              "    </tr>\n",
              "  </thead>\n",
              "  <tbody>\n",
              "    <tr>\n",
              "      <th>0</th>\n",
              "      <td>LP001002</td>\n",
              "      <td>Male</td>\n",
              "      <td>No</td>\n",
              "      <td>0</td>\n",
              "      <td>Graduate</td>\n",
              "      <td>No</td>\n",
              "      <td>5849</td>\n",
              "      <td>0.0</td>\n",
              "      <td>NaN</td>\n",
              "      <td>360.0</td>\n",
              "      <td>1.0</td>\n",
              "      <td>Urban</td>\n",
              "      <td>Y</td>\n",
              "    </tr>\n",
              "    <tr>\n",
              "      <th>1</th>\n",
              "      <td>LP001003</td>\n",
              "      <td>Male</td>\n",
              "      <td>Yes</td>\n",
              "      <td>1</td>\n",
              "      <td>Graduate</td>\n",
              "      <td>No</td>\n",
              "      <td>4583</td>\n",
              "      <td>1508.0</td>\n",
              "      <td>128.0</td>\n",
              "      <td>360.0</td>\n",
              "      <td>1.0</td>\n",
              "      <td>Rural</td>\n",
              "      <td>N</td>\n",
              "    </tr>\n",
              "    <tr>\n",
              "      <th>2</th>\n",
              "      <td>LP001005</td>\n",
              "      <td>Male</td>\n",
              "      <td>Yes</td>\n",
              "      <td>0</td>\n",
              "      <td>Graduate</td>\n",
              "      <td>Yes</td>\n",
              "      <td>3000</td>\n",
              "      <td>0.0</td>\n",
              "      <td>66.0</td>\n",
              "      <td>360.0</td>\n",
              "      <td>1.0</td>\n",
              "      <td>Urban</td>\n",
              "      <td>Y</td>\n",
              "    </tr>\n",
              "    <tr>\n",
              "      <th>3</th>\n",
              "      <td>LP001006</td>\n",
              "      <td>Male</td>\n",
              "      <td>Yes</td>\n",
              "      <td>0</td>\n",
              "      <td>Not Graduate</td>\n",
              "      <td>No</td>\n",
              "      <td>2583</td>\n",
              "      <td>2358.0</td>\n",
              "      <td>120.0</td>\n",
              "      <td>360.0</td>\n",
              "      <td>1.0</td>\n",
              "      <td>Urban</td>\n",
              "      <td>Y</td>\n",
              "    </tr>\n",
              "    <tr>\n",
              "      <th>4</th>\n",
              "      <td>LP001008</td>\n",
              "      <td>Male</td>\n",
              "      <td>No</td>\n",
              "      <td>0</td>\n",
              "      <td>Graduate</td>\n",
              "      <td>No</td>\n",
              "      <td>6000</td>\n",
              "      <td>0.0</td>\n",
              "      <td>141.0</td>\n",
              "      <td>360.0</td>\n",
              "      <td>1.0</td>\n",
              "      <td>Urban</td>\n",
              "      <td>Y</td>\n",
              "    </tr>\n",
              "  </tbody>\n",
              "</table>\n",
              "</div>"
            ],
            "text/plain": [
              "    Loan_ID Gender Married  ... Credit_History Property_Area Loan_Status\n",
              "0  LP001002   Male      No  ...            1.0         Urban           Y\n",
              "1  LP001003   Male     Yes  ...            1.0         Rural           N\n",
              "2  LP001005   Male     Yes  ...            1.0         Urban           Y\n",
              "3  LP001006   Male     Yes  ...            1.0         Urban           Y\n",
              "4  LP001008   Male      No  ...            1.0         Urban           Y\n",
              "\n",
              "[5 rows x 13 columns]"
            ]
          },
          "metadata": {
            "tags": []
          },
          "execution_count": 85
        }
      ]
    },
    {
      "cell_type": "code",
      "metadata": {
        "colab": {
          "base_uri": "https://localhost:8080/"
        },
        "id": "K8_3G4qv1v_a",
        "outputId": "65a87d95-5860-454f-d0e6-aa9a03ac368c"
      },
      "source": [
        "train_df.isnull().sum()"
      ],
      "execution_count": 86,
      "outputs": [
        {
          "output_type": "execute_result",
          "data": {
            "text/plain": [
              "Loan_ID               0\n",
              "Gender               13\n",
              "Married               3\n",
              "Dependents           15\n",
              "Education             0\n",
              "Self_Employed        32\n",
              "ApplicantIncome       0\n",
              "CoapplicantIncome     0\n",
              "LoanAmount           22\n",
              "Loan_Amount_Term     14\n",
              "Credit_History       50\n",
              "Property_Area         0\n",
              "Loan_Status           0\n",
              "dtype: int64"
            ]
          },
          "metadata": {
            "tags": []
          },
          "execution_count": 86
        }
      ]
    },
    {
      "cell_type": "code",
      "metadata": {
        "colab": {
          "base_uri": "https://localhost:8080/"
        },
        "id": "_F-AvRlT93sE",
        "outputId": "7a0b2a73-6a2e-4c17-bf53-0e96c1fa161f"
      },
      "source": [
        "train_df.shape"
      ],
      "execution_count": 87,
      "outputs": [
        {
          "output_type": "execute_result",
          "data": {
            "text/plain": [
              "(614, 13)"
            ]
          },
          "metadata": {
            "tags": []
          },
          "execution_count": 87
        }
      ]
    },
    {
      "cell_type": "code",
      "metadata": {
        "id": "j8J20Cmc98Da"
      },
      "source": [
        "train_df['LoanAmount'].fillna(train_df['LoanAmount'].mean(), inplace=True)"
      ],
      "execution_count": 88,
      "outputs": []
    },
    {
      "cell_type": "code",
      "metadata": {
        "colab": {
          "base_uri": "https://localhost:8080/"
        },
        "id": "Uj19x1XqRPz7",
        "outputId": "d8d6c312-f2d8-4598-83b8-1917be2f8667"
      },
      "source": [
        "train_df['Credit_History'].value_counts()"
      ],
      "execution_count": 89,
      "outputs": [
        {
          "output_type": "execute_result",
          "data": {
            "text/plain": [
              "1.0    475\n",
              "0.0     89\n",
              "Name: Credit_History, dtype: int64"
            ]
          },
          "metadata": {
            "tags": []
          },
          "execution_count": 89
        }
      ]
    },
    {
      "cell_type": "code",
      "metadata": {
        "id": "YK5xaE4URTc2"
      },
      "source": [
        "train_df['Credit_History'].fillna(1.0,inplace=True)"
      ],
      "execution_count": 90,
      "outputs": []
    },
    {
      "cell_type": "code",
      "metadata": {
        "colab": {
          "base_uri": "https://localhost:8080/"
        },
        "id": "Z2FWdvAERaXU",
        "outputId": "57a2d2bc-bb67-4eb2-cf8d-80d27d479a1d"
      },
      "source": [
        "train_df['Loan_Amount_Term'].value_counts()"
      ],
      "execution_count": 91,
      "outputs": [
        {
          "output_type": "execute_result",
          "data": {
            "text/plain": [
              "360.0    512\n",
              "180.0     44\n",
              "480.0     15\n",
              "300.0     13\n",
              "84.0       4\n",
              "240.0      4\n",
              "120.0      3\n",
              "36.0       2\n",
              "60.0       2\n",
              "12.0       1\n",
              "Name: Loan_Amount_Term, dtype: int64"
            ]
          },
          "metadata": {
            "tags": []
          },
          "execution_count": 91
        }
      ]
    },
    {
      "cell_type": "code",
      "metadata": {
        "id": "kqFGieCY12PL"
      },
      "source": [
        "train_df['Loan_Amount_Term'].fillna(360,inplace=True)"
      ],
      "execution_count": 92,
      "outputs": []
    },
    {
      "cell_type": "code",
      "metadata": {
        "colab": {
          "base_uri": "https://localhost:8080/"
        },
        "id": "jSmM-WU12CxZ",
        "outputId": "56311c49-aacf-47db-8c66-da462a0b76be"
      },
      "source": [
        "train_df.isnull().sum()"
      ],
      "execution_count": 93,
      "outputs": [
        {
          "output_type": "execute_result",
          "data": {
            "text/plain": [
              "Loan_ID               0\n",
              "Gender               13\n",
              "Married               3\n",
              "Dependents           15\n",
              "Education             0\n",
              "Self_Employed        32\n",
              "ApplicantIncome       0\n",
              "CoapplicantIncome     0\n",
              "LoanAmount            0\n",
              "Loan_Amount_Term      0\n",
              "Credit_History        0\n",
              "Property_Area         0\n",
              "Loan_Status           0\n",
              "dtype: int64"
            ]
          },
          "metadata": {
            "tags": []
          },
          "execution_count": 93
        }
      ]
    },
    {
      "cell_type": "code",
      "metadata": {
        "colab": {
          "base_uri": "https://localhost:8080/"
        },
        "id": "qC7Xx7fB2VNK",
        "outputId": "e7cb855e-f247-4a06-f2c3-8d40dad0677f"
      },
      "source": [
        "train_df.shape"
      ],
      "execution_count": 94,
      "outputs": [
        {
          "output_type": "execute_result",
          "data": {
            "text/plain": [
              "(614, 13)"
            ]
          },
          "metadata": {
            "tags": []
          },
          "execution_count": 94
        }
      ]
    },
    {
      "cell_type": "code",
      "metadata": {
        "id": "avelKm1224gj"
      },
      "source": [
        "train_df.dropna(inplace=True)"
      ],
      "execution_count": 95,
      "outputs": []
    },
    {
      "cell_type": "code",
      "metadata": {
        "colab": {
          "base_uri": "https://localhost:8080/",
          "height": 195
        },
        "id": "zBhoI79R27K5",
        "outputId": "73347934-a24d-4170-9b01-4302f92bbace"
      },
      "source": [
        "train_df.head()"
      ],
      "execution_count": 96,
      "outputs": [
        {
          "output_type": "execute_result",
          "data": {
            "text/html": [
              "<div>\n",
              "<style scoped>\n",
              "    .dataframe tbody tr th:only-of-type {\n",
              "        vertical-align: middle;\n",
              "    }\n",
              "\n",
              "    .dataframe tbody tr th {\n",
              "        vertical-align: top;\n",
              "    }\n",
              "\n",
              "    .dataframe thead th {\n",
              "        text-align: right;\n",
              "    }\n",
              "</style>\n",
              "<table border=\"1\" class=\"dataframe\">\n",
              "  <thead>\n",
              "    <tr style=\"text-align: right;\">\n",
              "      <th></th>\n",
              "      <th>Loan_ID</th>\n",
              "      <th>Gender</th>\n",
              "      <th>Married</th>\n",
              "      <th>Dependents</th>\n",
              "      <th>Education</th>\n",
              "      <th>Self_Employed</th>\n",
              "      <th>ApplicantIncome</th>\n",
              "      <th>CoapplicantIncome</th>\n",
              "      <th>LoanAmount</th>\n",
              "      <th>Loan_Amount_Term</th>\n",
              "      <th>Credit_History</th>\n",
              "      <th>Property_Area</th>\n",
              "      <th>Loan_Status</th>\n",
              "    </tr>\n",
              "  </thead>\n",
              "  <tbody>\n",
              "    <tr>\n",
              "      <th>0</th>\n",
              "      <td>LP001002</td>\n",
              "      <td>Male</td>\n",
              "      <td>No</td>\n",
              "      <td>0</td>\n",
              "      <td>Graduate</td>\n",
              "      <td>No</td>\n",
              "      <td>5849</td>\n",
              "      <td>0.0</td>\n",
              "      <td>146.412162</td>\n",
              "      <td>360.0</td>\n",
              "      <td>1.0</td>\n",
              "      <td>Urban</td>\n",
              "      <td>Y</td>\n",
              "    </tr>\n",
              "    <tr>\n",
              "      <th>1</th>\n",
              "      <td>LP001003</td>\n",
              "      <td>Male</td>\n",
              "      <td>Yes</td>\n",
              "      <td>1</td>\n",
              "      <td>Graduate</td>\n",
              "      <td>No</td>\n",
              "      <td>4583</td>\n",
              "      <td>1508.0</td>\n",
              "      <td>128.000000</td>\n",
              "      <td>360.0</td>\n",
              "      <td>1.0</td>\n",
              "      <td>Rural</td>\n",
              "      <td>N</td>\n",
              "    </tr>\n",
              "    <tr>\n",
              "      <th>2</th>\n",
              "      <td>LP001005</td>\n",
              "      <td>Male</td>\n",
              "      <td>Yes</td>\n",
              "      <td>0</td>\n",
              "      <td>Graduate</td>\n",
              "      <td>Yes</td>\n",
              "      <td>3000</td>\n",
              "      <td>0.0</td>\n",
              "      <td>66.000000</td>\n",
              "      <td>360.0</td>\n",
              "      <td>1.0</td>\n",
              "      <td>Urban</td>\n",
              "      <td>Y</td>\n",
              "    </tr>\n",
              "    <tr>\n",
              "      <th>3</th>\n",
              "      <td>LP001006</td>\n",
              "      <td>Male</td>\n",
              "      <td>Yes</td>\n",
              "      <td>0</td>\n",
              "      <td>Not Graduate</td>\n",
              "      <td>No</td>\n",
              "      <td>2583</td>\n",
              "      <td>2358.0</td>\n",
              "      <td>120.000000</td>\n",
              "      <td>360.0</td>\n",
              "      <td>1.0</td>\n",
              "      <td>Urban</td>\n",
              "      <td>Y</td>\n",
              "    </tr>\n",
              "    <tr>\n",
              "      <th>4</th>\n",
              "      <td>LP001008</td>\n",
              "      <td>Male</td>\n",
              "      <td>No</td>\n",
              "      <td>0</td>\n",
              "      <td>Graduate</td>\n",
              "      <td>No</td>\n",
              "      <td>6000</td>\n",
              "      <td>0.0</td>\n",
              "      <td>141.000000</td>\n",
              "      <td>360.0</td>\n",
              "      <td>1.0</td>\n",
              "      <td>Urban</td>\n",
              "      <td>Y</td>\n",
              "    </tr>\n",
              "  </tbody>\n",
              "</table>\n",
              "</div>"
            ],
            "text/plain": [
              "    Loan_ID Gender Married  ... Credit_History Property_Area Loan_Status\n",
              "0  LP001002   Male      No  ...            1.0         Urban           Y\n",
              "1  LP001003   Male     Yes  ...            1.0         Rural           N\n",
              "2  LP001005   Male     Yes  ...            1.0         Urban           Y\n",
              "3  LP001006   Male     Yes  ...            1.0         Urban           Y\n",
              "4  LP001008   Male      No  ...            1.0         Urban           Y\n",
              "\n",
              "[5 rows x 13 columns]"
            ]
          },
          "metadata": {
            "tags": []
          },
          "execution_count": 96
        }
      ]
    },
    {
      "cell_type": "code",
      "metadata": {
        "colab": {
          "base_uri": "https://localhost:8080/",
          "height": 284
        },
        "id": "4CUSxB3Z3Kzq",
        "outputId": "ae0f7e8e-307a-4ee7-be70-c1fe30f5cc76"
      },
      "source": [
        "train_df.describe()"
      ],
      "execution_count": 97,
      "outputs": [
        {
          "output_type": "execute_result",
          "data": {
            "text/html": [
              "<div>\n",
              "<style scoped>\n",
              "    .dataframe tbody tr th:only-of-type {\n",
              "        vertical-align: middle;\n",
              "    }\n",
              "\n",
              "    .dataframe tbody tr th {\n",
              "        vertical-align: top;\n",
              "    }\n",
              "\n",
              "    .dataframe thead th {\n",
              "        text-align: right;\n",
              "    }\n",
              "</style>\n",
              "<table border=\"1\" class=\"dataframe\">\n",
              "  <thead>\n",
              "    <tr style=\"text-align: right;\">\n",
              "      <th></th>\n",
              "      <th>ApplicantIncome</th>\n",
              "      <th>CoapplicantIncome</th>\n",
              "      <th>LoanAmount</th>\n",
              "      <th>Loan_Amount_Term</th>\n",
              "      <th>Credit_History</th>\n",
              "    </tr>\n",
              "  </thead>\n",
              "  <tbody>\n",
              "    <tr>\n",
              "      <th>count</th>\n",
              "      <td>554.000000</td>\n",
              "      <td>554.000000</td>\n",
              "      <td>554.000000</td>\n",
              "      <td>554.000000</td>\n",
              "      <td>554.000000</td>\n",
              "    </tr>\n",
              "    <tr>\n",
              "      <th>mean</th>\n",
              "      <td>5267.059567</td>\n",
              "      <td>1585.575668</td>\n",
              "      <td>144.969009</td>\n",
              "      <td>342.346570</td>\n",
              "      <td>0.855596</td>\n",
              "    </tr>\n",
              "    <tr>\n",
              "      <th>std</th>\n",
              "      <td>5455.163295</td>\n",
              "      <td>2524.484889</td>\n",
              "      <td>81.078416</td>\n",
              "      <td>64.781026</td>\n",
              "      <td>0.351817</td>\n",
              "    </tr>\n",
              "    <tr>\n",
              "      <th>min</th>\n",
              "      <td>150.000000</td>\n",
              "      <td>0.000000</td>\n",
              "      <td>9.000000</td>\n",
              "      <td>12.000000</td>\n",
              "      <td>0.000000</td>\n",
              "    </tr>\n",
              "    <tr>\n",
              "      <th>25%</th>\n",
              "      <td>2843.750000</td>\n",
              "      <td>0.000000</td>\n",
              "      <td>100.000000</td>\n",
              "      <td>360.000000</td>\n",
              "      <td>1.000000</td>\n",
              "    </tr>\n",
              "    <tr>\n",
              "      <th>50%</th>\n",
              "      <td>3839.500000</td>\n",
              "      <td>1149.000000</td>\n",
              "      <td>128.000000</td>\n",
              "      <td>360.000000</td>\n",
              "      <td>1.000000</td>\n",
              "    </tr>\n",
              "    <tr>\n",
              "      <th>75%</th>\n",
              "      <td>5818.750000</td>\n",
              "      <td>2297.250000</td>\n",
              "      <td>166.750000</td>\n",
              "      <td>360.000000</td>\n",
              "      <td>1.000000</td>\n",
              "    </tr>\n",
              "    <tr>\n",
              "      <th>max</th>\n",
              "      <td>81000.000000</td>\n",
              "      <td>33837.000000</td>\n",
              "      <td>650.000000</td>\n",
              "      <td>480.000000</td>\n",
              "      <td>1.000000</td>\n",
              "    </tr>\n",
              "  </tbody>\n",
              "</table>\n",
              "</div>"
            ],
            "text/plain": [
              "       ApplicantIncome  CoapplicantIncome  ...  Loan_Amount_Term  Credit_History\n",
              "count       554.000000         554.000000  ...        554.000000      554.000000\n",
              "mean       5267.059567        1585.575668  ...        342.346570        0.855596\n",
              "std        5455.163295        2524.484889  ...         64.781026        0.351817\n",
              "min         150.000000           0.000000  ...         12.000000        0.000000\n",
              "25%        2843.750000           0.000000  ...        360.000000        1.000000\n",
              "50%        3839.500000        1149.000000  ...        360.000000        1.000000\n",
              "75%        5818.750000        2297.250000  ...        360.000000        1.000000\n",
              "max       81000.000000       33837.000000  ...        480.000000        1.000000\n",
              "\n",
              "[8 rows x 5 columns]"
            ]
          },
          "metadata": {
            "tags": []
          },
          "execution_count": 97
        }
      ]
    },
    {
      "cell_type": "code",
      "metadata": {
        "id": "rrabgkx8aLnZ"
      },
      "source": [
        "numeric_features=train_df.describe().columns"
      ],
      "execution_count": 98,
      "outputs": []
    },
    {
      "cell_type": "code",
      "metadata": {
        "colab": {
          "base_uri": "https://localhost:8080/",
          "height": 1000
        },
        "id": "asMVTgsXZN26",
        "outputId": "5048fde8-2211-41a1-93c3-8abdc677d226"
      },
      "source": [
        "for col in numeric_features[1:]:\r\n",
        "  fig= plt.figure(figsize=(9,6))\r\n",
        "  ax=fig.gca()\r\n",
        "  feature=train_df[col]\r\n",
        "  feature.hist(bins=50,ax=ax)\r\n",
        "  ax.axvline(feature.mean(),color='red',linestyle='dashed')\r\n",
        "  ax.axvline(feature.median(),color='green',linestyle='dashed')\r\n",
        "  ax.set_title(col)\r\n",
        "plt.show()  "
      ],
      "execution_count": 99,
      "outputs": [
        {
          "output_type": "display_data",
          "data": {
            "image/png": "[encoded data removed]",
            "text/plain": [
              "<Figure size 648x432 with 1 Axes>"
            ]
          },
          "metadata": {
            "tags": [],
            "needs_background": "light"
          }
        },
        {
          "output_type": "display_data",
          "data": {
            "image/png": "[encoded data removed]",
            "text/plain": [
              "<Figure size 648x432 with 1 Axes>"
            ]
          },
          "metadata": {
            "tags": [],
            "needs_background": "light"
          }
        },
        {
          "output_type": "display_data",
          "data": {
            "image/png": "[encoded data removed]",
            "text/plain": [
              "<Figure size 648x432 with 1 Axes>"
            ]
          },
          "metadata": {
            "tags": [],
            "needs_background": "light"
          }
        },
        {
          "output_type": "display_data",
          "data": {
            "image/png": "[encoded data removed]",
            "text/plain": [
              "<Figure size 648x432 with 1 Axes>"
            ]
          },
          "metadata": {
            "tags": [],
            "needs_background": "light"
          }
        }
      ]
    },
    {
      "cell_type": "code",
      "metadata": {
        "colab": {
          "base_uri": "https://localhost:8080/",
          "height": 374
        },
        "id": "lzmfb5Bt4Pt6",
        "outputId": "fafce2e1-dedd-4d77-ee8c-fbeeda3d0c97"
      },
      "source": [
        "fig = plt.figure(figsize=(9, 6))\r\n",
        "ax = fig.gca()\r\n",
        "train_df.boxplot(column = 'LoanAmount')\r\n",
        "ax.set_ylabel(\"LoanAmount\")\r\n",
        "plt.show()\r\n"
      ],
      "execution_count": 100,
      "outputs": [
        {
          "output_type": "display_data",
          "data": {
            "image/png": "[encoded data removed]",
            "text/plain": [
              "<Figure size 648x432 with 1 Axes>"
            ]
          },
          "metadata": {
            "tags": [],
            "needs_background": "light"
          }
        }
      ]
    },
    {
      "cell_type": "code",
      "metadata": {
        "colab": {
          "base_uri": "https://localhost:8080/"
        },
        "id": "ShQ9nVNo5-gz",
        "outputId": "b0972957-c240-45b5-8759-3e4bcf25fcd3"
      },
      "source": [
        "upper_boundry=train_df['LoanAmount'].mean() + 3*train_df['LoanAmount'].std()\r\n",
        "lower_boundry=train_df['LoanAmount'].mean() - 3*train_df['LoanAmount'].std()\r\n",
        "print(lower_boundry), print(upper_boundry)"
      ],
      "execution_count": 101,
      "outputs": [
        {
          "output_type": "stream",
          "text": [
            "-98.26623821103775\n",
            "388.2042565542906\n"
          ],
          "name": "stdout"
        },
        {
          "output_type": "execute_result",
          "data": {
            "text/plain": [
              "(None, None)"
            ]
          },
          "metadata": {
            "tags": []
          },
          "execution_count": 101
        }
      ]
    },
    {
      "cell_type": "code",
      "metadata": {
        "id": "O5n2ZmeZ6foc"
      },
      "source": [
        "IQR= train_df['LoanAmount'].quantile(0.75)-train_df['LoanAmount'].quantile(0.25)"
      ],
      "execution_count": 102,
      "outputs": []
    },
    {
      "cell_type": "code",
      "metadata": {
        "colab": {
          "base_uri": "https://localhost:8080/"
        },
        "id": "DUmy4fgHcc6M",
        "outputId": "7d865696-2115-42e9-9703-b6ca979a882b"
      },
      "source": [
        "lower_bridge=train_df['LoanAmount'].quantile(0.25)-3*IQR\r\n",
        "upper_bridge=train_df['LoanAmount'].quantile(0.75)+3*IQR\r\n",
        "print(lower_bridge),print(upper_bridge)"
      ],
      "execution_count": 103,
      "outputs": [
        {
          "output_type": "stream",
          "text": [
            "-100.25\n",
            "367.0\n"
          ],
          "name": "stdout"
        },
        {
          "output_type": "execute_result",
          "data": {
            "text/plain": [
              "(None, None)"
            ]
          },
          "metadata": {
            "tags": []
          },
          "execution_count": 103
        }
      ]
    },
    {
      "cell_type": "code",
      "metadata": {
        "id": "0r4amBBLc_Hl"
      },
      "source": [
        "train=train_df.copy()"
      ],
      "execution_count": 104,
      "outputs": []
    },
    {
      "cell_type": "code",
      "metadata": {
        "id": "IvvnBP2xeK1l"
      },
      "source": [
        "train.loc[train['LoanAmount']>398,'LoanAmount']=398"
      ],
      "execution_count": 105,
      "outputs": []
    },
    {
      "cell_type": "code",
      "metadata": {
        "id": "6F_sPT1AebHW"
      },
      "source": [
        "IQR= train_df['ApplicantIncome'].quantile(0.75)-train_df['ApplicantIncome'].quantile(0.25)"
      ],
      "execution_count": 106,
      "outputs": []
    },
    {
      "cell_type": "code",
      "metadata": {
        "colab": {
          "base_uri": "https://localhost:8080/"
        },
        "id": "kYtTFuQreo9E",
        "outputId": "3c94090e-6e85-4924-b271-af17cf7c0689"
      },
      "source": [
        "lower_bridge=train_df['ApplicantIncome'].quantile(0.25)-3*IQR\r\n",
        "upper_bridge=train_df['ApplicantIncome'].quantile(0.75)+3*IQR\r\n",
        "print(lower_bridge),print(upper_bridge)"
      ],
      "execution_count": 107,
      "outputs": [
        {
          "output_type": "stream",
          "text": [
            "-6081.25\n",
            "14743.75\n"
          ],
          "name": "stdout"
        },
        {
          "output_type": "execute_result",
          "data": {
            "text/plain": [
              "(None, None)"
            ]
          },
          "metadata": {
            "tags": []
          },
          "execution_count": 107
        }
      ]
    },
    {
      "cell_type": "code",
      "metadata": {
        "id": "g6wmG1Tkff13"
      },
      "source": [
        "train.loc[train['ApplicantIncome']>14547,'ApplicantIncome']=14547"
      ],
      "execution_count": 108,
      "outputs": []
    },
    {
      "cell_type": "code",
      "metadata": {
        "id": "_Lbylsh-f7z_"
      },
      "source": [
        "IQR= train_df['CoapplicantIncome'].quantile(0.75)-train_df['CoapplicantIncome'].quantile(0.25)"
      ],
      "execution_count": 109,
      "outputs": []
    },
    {
      "cell_type": "code",
      "metadata": {
        "colab": {
          "base_uri": "https://localhost:8080/"
        },
        "id": "7cKVJDCZfvKO",
        "outputId": "74a568d7-8c5a-4219-bd1e-7c5bda1dc16f"
      },
      "source": [
        "lower_bridge=train_df['CoapplicantIncome'].quantile(0.25)-3*IQR\r\n",
        "upper_bridge=train_df['CoapplicantIncome'].quantile(0.75)+3*IQR\r\n",
        "print(lower_bridge),print(upper_bridge)\r\n"
      ],
      "execution_count": 110,
      "outputs": [
        {
          "output_type": "stream",
          "text": [
            "-6891.75\n",
            "9189.0\n"
          ],
          "name": "stdout"
        },
        {
          "output_type": "execute_result",
          "data": {
            "text/plain": [
              "(None, None)"
            ]
          },
          "metadata": {
            "tags": []
          },
          "execution_count": 110
        }
      ]
    },
    {
      "cell_type": "code",
      "metadata": {
        "id": "8aTRFLIUgGs7"
      },
      "source": [
        "train.loc[train['CoapplicantIncome']>9189,'CoapplicantIncome']=9189"
      ],
      "execution_count": 111,
      "outputs": []
    },
    {
      "cell_type": "code",
      "metadata": {
        "colab": {
          "base_uri": "https://localhost:8080/"
        },
        "id": "Z3yE22UwgXsJ",
        "outputId": "66360cec-0b61-438d-be54-7c35af2b355e"
      },
      "source": [
        "upper_boundry=train_df['Loan_Amount_Term'].mean() + 3*train_df['Loan_Amount_Term'].std()\r\n",
        "lower_boundry=train_df['Loan_Amount_Term'].mean() - 3*train_df['Loan_Amount_Term'].std()\r\n",
        "print(lower_boundry), print(upper_boundry)"
      ],
      "execution_count": 112,
      "outputs": [
        {
          "output_type": "stream",
          "text": [
            "148.0034931002214\n",
            "536.6896476940025\n"
          ],
          "name": "stdout"
        },
        {
          "output_type": "execute_result",
          "data": {
            "text/plain": [
              "(None, None)"
            ]
          },
          "metadata": {
            "tags": []
          },
          "execution_count": 112
        }
      ]
    },
    {
      "cell_type": "code",
      "metadata": {
        "id": "hW8uHO2TgnCm"
      },
      "source": [
        "train.loc[train['Loan_Amount_Term']<149,'Loan_Amount_Term']=149"
      ],
      "execution_count": 113,
      "outputs": []
    },
    {
      "cell_type": "code",
      "metadata": {
        "colab": {
          "base_uri": "https://localhost:8080/",
          "height": 195
        },
        "id": "ebz4pZgHhfsk",
        "outputId": "f53db9bd-c855-47e4-81da-bdb7d3c4bcf3"
      },
      "source": [
        "train.head()"
      ],
      "execution_count": 114,
      "outputs": [
        {
          "output_type": "execute_result",
          "data": {
            "text/html": [
              "<div>\n",
              "<style scoped>\n",
              "    .dataframe tbody tr th:only-of-type {\n",
              "        vertical-align: middle;\n",
              "    }\n",
              "\n",
              "    .dataframe tbody tr th {\n",
              "        vertical-align: top;\n",
              "    }\n",
              "\n",
              "    .dataframe thead th {\n",
              "        text-align: right;\n",
              "    }\n",
              "</style>\n",
              "<table border=\"1\" class=\"dataframe\">\n",
              "  <thead>\n",
              "    <tr style=\"text-align: right;\">\n",
              "      <th></th>\n",
              "      <th>Loan_ID</th>\n",
              "      <th>Gender</th>\n",
              "      <th>Married</th>\n",
              "      <th>Dependents</th>\n",
              "      <th>Education</th>\n",
              "      <th>Self_Employed</th>\n",
              "      <th>ApplicantIncome</th>\n",
              "      <th>CoapplicantIncome</th>\n",
              "      <th>LoanAmount</th>\n",
              "      <th>Loan_Amount_Term</th>\n",
              "      <th>Credit_History</th>\n",
              "      <th>Property_Area</th>\n",
              "      <th>Loan_Status</th>\n",
              "    </tr>\n",
              "  </thead>\n",
              "  <tbody>\n",
              "    <tr>\n",
              "      <th>0</th>\n",
              "      <td>LP001002</td>\n",
              "      <td>Male</td>\n",
              "      <td>No</td>\n",
              "      <td>0</td>\n",
              "      <td>Graduate</td>\n",
              "      <td>No</td>\n",
              "      <td>5849</td>\n",
              "      <td>0.0</td>\n",
              "      <td>146.412162</td>\n",
              "      <td>360.0</td>\n",
              "      <td>1.0</td>\n",
              "      <td>Urban</td>\n",
              "      <td>Y</td>\n",
              "    </tr>\n",
              "    <tr>\n",
              "      <th>1</th>\n",
              "      <td>LP001003</td>\n",
              "      <td>Male</td>\n",
              "      <td>Yes</td>\n",
              "      <td>1</td>\n",
              "      <td>Graduate</td>\n",
              "      <td>No</td>\n",
              "      <td>4583</td>\n",
              "      <td>1508.0</td>\n",
              "      <td>128.000000</td>\n",
              "      <td>360.0</td>\n",
              "      <td>1.0</td>\n",
              "      <td>Rural</td>\n",
              "      <td>N</td>\n",
              "    </tr>\n",
              "    <tr>\n",
              "      <th>2</th>\n",
              "      <td>LP001005</td>\n",
              "      <td>Male</td>\n",
              "      <td>Yes</td>\n",
              "      <td>0</td>\n",
              "      <td>Graduate</td>\n",
              "      <td>Yes</td>\n",
              "      <td>3000</td>\n",
              "      <td>0.0</td>\n",
              "      <td>66.000000</td>\n",
              "      <td>360.0</td>\n",
              "      <td>1.0</td>\n",
              "      <td>Urban</td>\n",
              "      <td>Y</td>\n",
              "    </tr>\n",
              "    <tr>\n",
              "      <th>3</th>\n",
              "      <td>LP001006</td>\n",
              "      <td>Male</td>\n",
              "      <td>Yes</td>\n",
              "      <td>0</td>\n",
              "      <td>Not Graduate</td>\n",
              "      <td>No</td>\n",
              "      <td>2583</td>\n",
              "      <td>2358.0</td>\n",
              "      <td>120.000000</td>\n",
              "      <td>360.0</td>\n",
              "      <td>1.0</td>\n",
              "      <td>Urban</td>\n",
              "      <td>Y</td>\n",
              "    </tr>\n",
              "    <tr>\n",
              "      <th>4</th>\n",
              "      <td>LP001008</td>\n",
              "      <td>Male</td>\n",
              "      <td>No</td>\n",
              "      <td>0</td>\n",
              "      <td>Graduate</td>\n",
              "      <td>No</td>\n",
              "      <td>6000</td>\n",
              "      <td>0.0</td>\n",
              "      <td>141.000000</td>\n",
              "      <td>360.0</td>\n",
              "      <td>1.0</td>\n",
              "      <td>Urban</td>\n",
              "      <td>Y</td>\n",
              "    </tr>\n",
              "  </tbody>\n",
              "</table>\n",
              "</div>"
            ],
            "text/plain": [
              "    Loan_ID Gender Married  ... Credit_History Property_Area Loan_Status\n",
              "0  LP001002   Male      No  ...            1.0         Urban           Y\n",
              "1  LP001003   Male     Yes  ...            1.0         Rural           N\n",
              "2  LP001005   Male     Yes  ...            1.0         Urban           Y\n",
              "3  LP001006   Male     Yes  ...            1.0         Urban           Y\n",
              "4  LP001008   Male      No  ...            1.0         Urban           Y\n",
              "\n",
              "[5 rows x 13 columns]"
            ]
          },
          "metadata": {
            "tags": []
          },
          "execution_count": 114
        }
      ]
    },
    {
      "cell_type": "code",
      "metadata": {
        "colab": {
          "base_uri": "https://localhost:8080/"
        },
        "id": "HJSqVqxGhhyU",
        "outputId": "10a966a3-8d8a-4ca2-f0b6-077f86c53a83"
      },
      "source": [
        "train['Gender'].value_counts()"
      ],
      "execution_count": 115,
      "outputs": [
        {
          "output_type": "execute_result",
          "data": {
            "text/plain": [
              "Male      453\n",
              "Female    101\n",
              "Name: Gender, dtype: int64"
            ]
          },
          "metadata": {
            "tags": []
          },
          "execution_count": 115
        }
      ]
    },
    {
      "cell_type": "code",
      "metadata": {
        "id": "cEp3ER3qiXnu"
      },
      "source": [
        "train['Gender'].replace({'Male':1,'Female':0},inplace=True)"
      ],
      "execution_count": 116,
      "outputs": []
    },
    {
      "cell_type": "code",
      "metadata": {
        "id": "tDhmis6-iuh_"
      },
      "source": [
        "train['Married'].replace({'Yes':1,'No':0},inplace=True)"
      ],
      "execution_count": 117,
      "outputs": []
    },
    {
      "cell_type": "code",
      "metadata": {
        "colab": {
          "base_uri": "https://localhost:8080/"
        },
        "id": "yqciIUgZiodW",
        "outputId": "2bc079e3-2612-4897-bc38-fbc662112bc8"
      },
      "source": [
        "train['Education'].value_counts()"
      ],
      "execution_count": 118,
      "outputs": [
        {
          "output_type": "execute_result",
          "data": {
            "text/plain": [
              "Graduate        431\n",
              "Not Graduate    123\n",
              "Name: Education, dtype: int64"
            ]
          },
          "metadata": {
            "tags": []
          },
          "execution_count": 118
        }
      ]
    },
    {
      "cell_type": "code",
      "metadata": {
        "id": "a9oZuuSni8lu"
      },
      "source": [
        "train['Education'].replace({'Graduate':1,'Not Graduate':0},inplace=True)"
      ],
      "execution_count": 119,
      "outputs": []
    },
    {
      "cell_type": "code",
      "metadata": {
        "colab": {
          "base_uri": "https://localhost:8080/"
        },
        "id": "8yxUrn_xjNsC",
        "outputId": "1345091a-15fe-40bb-9d25-fd7ca705ba2d"
      },
      "source": [
        "train['Self_Employed'].value_counts()"
      ],
      "execution_count": 120,
      "outputs": [
        {
          "output_type": "execute_result",
          "data": {
            "text/plain": [
              "No     478\n",
              "Yes     76\n",
              "Name: Self_Employed, dtype: int64"
            ]
          },
          "metadata": {
            "tags": []
          },
          "execution_count": 120
        }
      ]
    },
    {
      "cell_type": "code",
      "metadata": {
        "id": "NCueqMJgjTSy"
      },
      "source": [
        "train['Self_Employed'].replace({'Yes':1,'No':0},inplace=True)"
      ],
      "execution_count": 121,
      "outputs": []
    },
    {
      "cell_type": "code",
      "metadata": {
        "colab": {
          "base_uri": "https://localhost:8080/"
        },
        "id": "jeBK1FANjuBM",
        "outputId": "a72babcf-912d-4e52-86cf-4ea6c6025b79"
      },
      "source": [
        "train['Property_Area'].value_counts()"
      ],
      "execution_count": 122,
      "outputs": [
        {
          "output_type": "execute_result",
          "data": {
            "text/plain": [
              "Semiurban    211\n",
              "Urban        180\n",
              "Rural        163\n",
              "Name: Property_Area, dtype: int64"
            ]
          },
          "metadata": {
            "tags": []
          },
          "execution_count": 122
        }
      ]
    },
    {
      "cell_type": "code",
      "metadata": {
        "id": "R7CCzahzj_rv"
      },
      "source": [
        "Property_Area= train[[\"Property_Area\"]]\r\n",
        "\r\n",
        "Property_Area = pd.get_dummies(Property_Area, drop_first= True)"
      ],
      "execution_count": 123,
      "outputs": []
    },
    {
      "cell_type": "code",
      "metadata": {
        "id": "VM4t0SPpk_3s"
      },
      "source": [
        "train['Loan_Status'].replace({'Y':1,'N':0},inplace=True)"
      ],
      "execution_count": 124,
      "outputs": []
    },
    {
      "cell_type": "code",
      "metadata": {
        "id": "6pQhouY0lEe3"
      },
      "source": [
        "data_train=pd.concat([train,Property_Area],axis=1)"
      ],
      "execution_count": 125,
      "outputs": []
    },
    {
      "cell_type": "code",
      "metadata": {
        "id": "fpiE_noMl_Ig"
      },
      "source": [
        "data_train.drop(['Property_Area','Loan_ID'],axis=1,inplace=True)"
      ],
      "execution_count": 126,
      "outputs": []
    },
    {
      "cell_type": "code",
      "metadata": {
        "colab": {
          "base_uri": "https://localhost:8080/",
          "height": 215
        },
        "id": "PwQblBLmmODn",
        "outputId": "8bcfac75-3dfa-465e-e5fa-5ef241c8554b"
      },
      "source": [
        "data_train.head()"
      ],
      "execution_count": 127,
      "outputs": [
        {
          "output_type": "execute_result",
          "data": {
            "text/html": [
              "<div>\n",
              "<style scoped>\n",
              "    .dataframe tbody tr th:only-of-type {\n",
              "        vertical-align: middle;\n",
              "    }\n",
              "\n",
              "    .dataframe tbody tr th {\n",
              "        vertical-align: top;\n",
              "    }\n",
              "\n",
              "    .dataframe thead th {\n",
              "        text-align: right;\n",
              "    }\n",
              "</style>\n",
              "<table border=\"1\" class=\"dataframe\">\n",
              "  <thead>\n",
              "    <tr style=\"text-align: right;\">\n",
              "      <th></th>\n",
              "      <th>Gender</th>\n",
              "      <th>Married</th>\n",
              "      <th>Dependents</th>\n",
              "      <th>Education</th>\n",
              "      <th>Self_Employed</th>\n",
              "      <th>ApplicantIncome</th>\n",
              "      <th>CoapplicantIncome</th>\n",
              "      <th>LoanAmount</th>\n",
              "      <th>Loan_Amount_Term</th>\n",
              "      <th>Credit_History</th>\n",
              "      <th>Loan_Status</th>\n",
              "      <th>Property_Area_Semiurban</th>\n",
              "      <th>Property_Area_Urban</th>\n",
              "    </tr>\n",
              "  </thead>\n",
              "  <tbody>\n",
              "    <tr>\n",
              "      <th>0</th>\n",
              "      <td>1</td>\n",
              "      <td>0</td>\n",
              "      <td>0</td>\n",
              "      <td>1</td>\n",
              "      <td>0</td>\n",
              "      <td>5849</td>\n",
              "      <td>0.0</td>\n",
              "      <td>146.412162</td>\n",
              "      <td>360.0</td>\n",
              "      <td>1.0</td>\n",
              "      <td>1</td>\n",
              "      <td>0</td>\n",
              "      <td>1</td>\n",
              "    </tr>\n",
              "    <tr>\n",
              "      <th>1</th>\n",
              "      <td>1</td>\n",
              "      <td>1</td>\n",
              "      <td>1</td>\n",
              "      <td>1</td>\n",
              "      <td>0</td>\n",
              "      <td>4583</td>\n",
              "      <td>1508.0</td>\n",
              "      <td>128.000000</td>\n",
              "      <td>360.0</td>\n",
              "      <td>1.0</td>\n",
              "      <td>0</td>\n",
              "      <td>0</td>\n",
              "      <td>0</td>\n",
              "    </tr>\n",
              "    <tr>\n",
              "      <th>2</th>\n",
              "      <td>1</td>\n",
              "      <td>1</td>\n",
              "      <td>0</td>\n",
              "      <td>1</td>\n",
              "      <td>1</td>\n",
              "      <td>3000</td>\n",
              "      <td>0.0</td>\n",
              "      <td>66.000000</td>\n",
              "      <td>360.0</td>\n",
              "      <td>1.0</td>\n",
              "      <td>1</td>\n",
              "      <td>0</td>\n",
              "      <td>1</td>\n",
              "    </tr>\n",
              "    <tr>\n",
              "      <th>3</th>\n",
              "      <td>1</td>\n",
              "      <td>1</td>\n",
              "      <td>0</td>\n",
              "      <td>0</td>\n",
              "      <td>0</td>\n",
              "      <td>2583</td>\n",
              "      <td>2358.0</td>\n",
              "      <td>120.000000</td>\n",
              "      <td>360.0</td>\n",
              "      <td>1.0</td>\n",
              "      <td>1</td>\n",
              "      <td>0</td>\n",
              "      <td>1</td>\n",
              "    </tr>\n",
              "    <tr>\n",
              "      <th>4</th>\n",
              "      <td>1</td>\n",
              "      <td>0</td>\n",
              "      <td>0</td>\n",
              "      <td>1</td>\n",
              "      <td>0</td>\n",
              "      <td>6000</td>\n",
              "      <td>0.0</td>\n",
              "      <td>141.000000</td>\n",
              "      <td>360.0</td>\n",
              "      <td>1.0</td>\n",
              "      <td>1</td>\n",
              "      <td>0</td>\n",
              "      <td>1</td>\n",
              "    </tr>\n",
              "  </tbody>\n",
              "</table>\n",
              "</div>"
            ],
            "text/plain": [
              "   Gender  Married  ... Property_Area_Semiurban  Property_Area_Urban\n",
              "0       1        0  ...                       0                    1\n",
              "1       1        1  ...                       0                    0\n",
              "2       1        1  ...                       0                    1\n",
              "3       1        1  ...                       0                    1\n",
              "4       1        0  ...                       0                    1\n",
              "\n",
              "[5 rows x 13 columns]"
            ]
          },
          "metadata": {
            "tags": []
          },
          "execution_count": 127
        }
      ]
    },
    {
      "cell_type": "code",
      "metadata": {
        "id": "tUwHFnpQmQlf"
      },
      "source": [
        "from sklearn.model_selection import train_test_split\r\n"
      ],
      "execution_count": 128,
      "outputs": []
    },
    {
      "cell_type": "code",
      "metadata": {
        "colab": {
          "base_uri": "https://localhost:8080/"
        },
        "id": "CTwxwsOMn_PH",
        "outputId": "d9d9773e-778b-4557-a99f-28b396d45727"
      },
      "source": [
        "data_train.columns"
      ],
      "execution_count": 129,
      "outputs": [
        {
          "output_type": "execute_result",
          "data": {
            "text/plain": [
              "Index(['Gender', 'Married', 'Dependents', 'Education', 'Self_Employed',\n",
              "       'ApplicantIncome', 'CoapplicantIncome', 'LoanAmount',\n",
              "       'Loan_Amount_Term', 'Credit_History', 'Loan_Status',\n",
              "       'Property_Area_Semiurban', 'Property_Area_Urban'],\n",
              "      dtype='object')"
            ]
          },
          "metadata": {
            "tags": []
          },
          "execution_count": 129
        }
      ]
    },
    {
      "cell_type": "code",
      "metadata": {
        "colab": {
          "base_uri": "https://localhost:8080/"
        },
        "id": "oHeJtq0Gpohr",
        "outputId": "3e89e7d5-405d-4418-c7da-12d25da7f820"
      },
      "source": [
        "data_train.info()"
      ],
      "execution_count": 130,
      "outputs": [
        {
          "output_type": "stream",
          "text": [
            "<class 'pandas.core.frame.DataFrame'>\n",
            "Int64Index: 554 entries, 0 to 613\n",
            "Data columns (total 13 columns):\n",
            " #   Column                   Non-Null Count  Dtype  \n",
            "---  ------                   --------------  -----  \n",
            " 0   Gender                   554 non-null    int64  \n",
            " 1   Married                  554 non-null    int64  \n",
            " 2   Dependents               554 non-null    object \n",
            " 3   Education                554 non-null    int64  \n",
            " 4   Self_Employed            554 non-null    int64  \n",
            " 5   ApplicantIncome          554 non-null    int64  \n",
            " 6   CoapplicantIncome        554 non-null    float64\n",
            " 7   LoanAmount               554 non-null    float64\n",
            " 8   Loan_Amount_Term         554 non-null    float64\n",
            " 9   Credit_History           554 non-null    float64\n",
            " 10  Loan_Status              554 non-null    int64  \n",
            " 11  Property_Area_Semiurban  554 non-null    uint8  \n",
            " 12  Property_Area_Urban      554 non-null    uint8  \n",
            "dtypes: float64(4), int64(6), object(1), uint8(2)\n",
            "memory usage: 53.0+ KB\n"
          ],
          "name": "stdout"
        }
      ]
    },
    {
      "cell_type": "code",
      "metadata": {
        "id": "OPdtClTXoBzH"
      },
      "source": [
        "X=data_train.loc[:,['Gender', 'Married', 'Education', 'Self_Employed',\r\n",
        "       'ApplicantIncome', 'CoapplicantIncome', 'LoanAmount',\r\n",
        "       'Loan_Amount_Term', 'Credit_History',\r\n",
        "       'Property_Area_Semiurban', 'Property_Area_Urban']]"
      ],
      "execution_count": 131,
      "outputs": []
    },
    {
      "cell_type": "code",
      "metadata": {
        "id": "f7WqfwgAoSVY"
      },
      "source": [
        "y=data_train.loc[:,['Loan_Status']]"
      ],
      "execution_count": 132,
      "outputs": []
    },
    {
      "cell_type": "code",
      "metadata": {
        "colab": {
          "base_uri": "https://localhost:8080/"
        },
        "id": "45YOTRLdpbIc",
        "outputId": "a1da0398-2cee-4b5c-fad8-5b72ae7c2695"
      },
      "source": [
        "X.dtypes"
      ],
      "execution_count": 133,
      "outputs": [
        {
          "output_type": "execute_result",
          "data": {
            "text/plain": [
              "Gender                       int64\n",
              "Married                      int64\n",
              "Education                    int64\n",
              "Self_Employed                int64\n",
              "ApplicantIncome              int64\n",
              "CoapplicantIncome          float64\n",
              "LoanAmount                 float64\n",
              "Loan_Amount_Term           float64\n",
              "Credit_History             float64\n",
              "Property_Area_Semiurban      uint8\n",
              "Property_Area_Urban          uint8\n",
              "dtype: object"
            ]
          },
          "metadata": {
            "tags": []
          },
          "execution_count": 133
        }
      ]
    },
    {
      "cell_type": "code",
      "metadata": {
        "id": "G-QrFLVYoajI"
      },
      "source": [
        "X_train,X_test,y_train,y_test=train_test_split(X,y,test_size=0.2,random_state=7)"
      ],
      "execution_count": 134,
      "outputs": []
    },
    {
      "cell_type": "markdown",
      "metadata": {
        "id": "Qu407EG9q09G"
      },
      "source": [
        "**Prediction by using Logistic Regression**"
      ]
    },
    {
      "cell_type": "code",
      "metadata": {
        "colab": {
          "base_uri": "https://localhost:8080/"
        },
        "id": "N3q8WTC4oo1Q",
        "outputId": "a4cef27b-9ae4-4350-eea8-9a37b080e4bd"
      },
      "source": [
        "from sklearn.linear_model import LogisticRegression\r\n",
        "clf=LogisticRegression()\r\n",
        "clf.fit(X_train,y_train)\r\n"
      ],
      "execution_count": 135,
      "outputs": [
        {
          "output_type": "execute_result",
          "data": {
            "text/plain": [
              "LogisticRegression(C=1.0, class_weight=None, dual=False, fit_intercept=True,\n",
              "                   intercept_scaling=1, l1_ratio=None, max_iter=100,\n",
              "                   multi_class='auto', n_jobs=None, penalty='l2',\n",
              "                   random_state=None, solver='lbfgs', tol=0.0001, verbose=0,\n",
              "                   warm_start=False)"
            ]
          },
          "metadata": {
            "tags": []
          },
          "execution_count": 135
        }
      ]
    },
    {
      "cell_type": "code",
      "metadata": {
        "id": "BjaZDzaOpGOX"
      },
      "source": [
        "y_pred=clf.predict(X_test)\r\n",
        "y_pred1=clf.predict_proba(X_test)"
      ],
      "execution_count": 136,
      "outputs": []
    },
    {
      "cell_type": "code",
      "metadata": {
        "colab": {
          "base_uri": "https://localhost:8080/"
        },
        "id": "68bkKVydqi_l",
        "outputId": "d96e8495-a293-48a3-bcf3-e618868e619d"
      },
      "source": [
        "from sklearn.metrics import accuracy_score,roc_auc_score\r\n",
        "print('Accuracy Score= {}'.format(accuracy_score(y_test,y_pred)))\r\n",
        "print('roc_auc_score= {}'.format(roc_auc_score(y_test,y_pred1[:,1])))"
      ],
      "execution_count": 137,
      "outputs": [
        {
          "output_type": "stream",
          "text": [
            "Accuracy Score= 0.7747747747747747\n",
            "roc_auc_score= 0.6762962962962963\n"
          ],
          "name": "stdout"
        }
      ]
    },
    {
      "cell_type": "markdown",
      "metadata": {
        "id": "Zhfq0s1wqwST"
      },
      "source": [
        "**#Random Forest Classifier**"
      ]
    },
    {
      "cell_type": "code",
      "metadata": {
        "colab": {
          "base_uri": "https://localhost:8080/"
        },
        "id": "0bklTBLMq_SV",
        "outputId": "05af967f-a7cf-4b8d-e4be-e497f17fbb9c"
      },
      "source": [
        "\r\n",
        "from sklearn.ensemble import RandomForestClassifier\r\n",
        "classifier=RandomForestClassifier()\r\n",
        "classifier.fit(X_train,y_train)\r\n"
      ],
      "execution_count": 138,
      "outputs": [
        {
          "output_type": "execute_result",
          "data": {
            "text/plain": [
              "RandomForestClassifier(bootstrap=True, ccp_alpha=0.0, class_weight=None,\n",
              "                       criterion='gini', max_depth=None, max_features='auto',\n",
              "                       max_leaf_nodes=None, max_samples=None,\n",
              "                       min_impurity_decrease=0.0, min_impurity_split=None,\n",
              "                       min_samples_leaf=1, min_samples_split=2,\n",
              "                       min_weight_fraction_leaf=0.0, n_estimators=100,\n",
              "                       n_jobs=None, oob_score=False, random_state=None,\n",
              "                       verbose=0, warm_start=False)"
            ]
          },
          "metadata": {
            "tags": []
          },
          "execution_count": 138
        }
      ]
    },
    {
      "cell_type": "code",
      "metadata": {
        "colab": {
          "base_uri": "https://localhost:8080/"
        },
        "id": "qxqI5Gx4sUT8",
        "outputId": "0dac5423-92a3-40bb-b4ea-308a333a9951"
      },
      "source": [
        "y_pred=classifier.predict(X_test)\r\n",
        "y_pred1=classifier.predict_proba(X_test)\r\n",
        "print('Accuracy Score= {}'.format(accuracy_score(y_test,y_pred)))\r\n",
        "print('roc_auc_score= {}'.format(roc_auc_score(y_test,y_pred1[:,1])))"
      ],
      "execution_count": 139,
      "outputs": [
        {
          "output_type": "stream",
          "text": [
            "Accuracy Score= 0.7477477477477478\n",
            "roc_auc_score= 0.7129629629629631\n"
          ],
          "name": "stdout"
        }
      ]
    },
    {
      "cell_type": "markdown",
      "metadata": {
        "id": "WTZmacxYqRD5"
      },
      "source": [
        "**Hyperparameter Tunning**"
      ]
    },
    {
      "cell_type": "code",
      "metadata": {
        "id": "XSBUjrR8sv_X"
      },
      "source": [
        "from sklearn.model_selection import RandomizedSearchCV"
      ],
      "execution_count": 140,
      "outputs": []
    },
    {
      "cell_type": "code",
      "metadata": {
        "colab": {
          "base_uri": "https://localhost:8080/"
        },
        "id": "zp9Hoc31tF_I",
        "outputId": "bf0d6a32-7760-4818-a888-7860a2575cd3"
      },
      "source": [
        "from sklearn.model_selection import RandomizedSearchCV\r\n",
        "# Number of trees in random forest\r\n",
        "n_estimators = [int(x) for x in np.linspace(start = 200, stop = 2000, num = 10)]\r\n",
        "# Number of features to consider at every split\r\n",
        "max_features = ['auto', 'sqrt','log2']\r\n",
        "# Maximum number of levels in tree\r\n",
        "max_depth = [int(x) for x in np.linspace(10, 1000,10)]\r\n",
        "# Minimum number of samples required to split a node\r\n",
        "min_samples_split = [2, 5, 10,14]\r\n",
        "# Minimum number of samples required at each leaf node\r\n",
        "min_samples_leaf = [1, 2, 4,6,8]\r\n",
        "# Create the random grid\r\n",
        "random_grid = {'n_estimators': n_estimators,\r\n",
        "               'max_features': max_features,\r\n",
        "               'max_depth': max_depth,\r\n",
        "               'min_samples_split': min_samples_split,\r\n",
        "               'min_samples_leaf': min_samples_leaf,\r\n",
        "              'criterion':['entropy','gini']}\r\n",
        "print(random_grid)\r\n"
      ],
      "execution_count": 60,
      "outputs": [
        {
          "output_type": "stream",
          "text": [
            "{'n_estimators': [200, 400, 600, 800, 1000, 1200, 1400, 1600, 1800, 2000], 'max_features': ['auto', 'sqrt', 'log2'], 'max_depth': [10, 120, 230, 340, 450, 560, 670, 780, 890, 1000], 'min_samples_split': [2, 5, 10, 14], 'min_samples_leaf': [1, 2, 4, 6, 8], 'criterion': ['entropy', 'gini']}\n"
          ],
          "name": "stdout"
        }
      ]
    },
    {
      "cell_type": "code",
      "metadata": {
        "colab": {
          "base_uri": "https://localhost:8080/"
        },
        "id": "HeNq4tcGtO3j",
        "outputId": "04680199-605f-44b0-9af0-40a28574e124"
      },
      "source": [
        "rf=RandomForestClassifier()\r\n",
        "rf_randomcv=RandomizedSearchCV(estimator=rf,param_distributions=random_grid,cv=3,n_iter=100,verbose=2,\r\n",
        "                               random_state=100)\r\n",
        "### fit the randomized model\r\n",
        "rf_randomcv.fit(X_train,y_train)"
      ],
      "execution_count": 61,
      "outputs": [
        {
          "output_type": "stream",
          "text": [
            "Fitting 3 folds for each of 100 candidates, totalling 300 fits\n",
            "[CV] n_estimators=200, min_samples_split=2, min_samples_leaf=2, max_features=sqrt, max_depth=1000, criterion=entropy \n"
          ],
          "name": "stdout"
        },
        {
          "output_type": "stream",
          "text": [
            "[Parallel(n_jobs=1)]: Using backend SequentialBackend with 1 concurrent workers.\n"
          ],
          "name": "stderr"
        },
        {
          "output_type": "stream",
          "text": [
            "[CV]  n_estimators=200, min_samples_split=2, min_samples_leaf=2, max_features=sqrt, max_depth=1000, criterion=entropy, total=   0.3s\n",
            "[CV] n_estimators=200, min_samples_split=2, min_samples_leaf=2, max_features=sqrt, max_depth=1000, criterion=entropy \n"
          ],
          "name": "stdout"
        },
        {
          "output_type": "stream",
          "text": [
            "[Parallel(n_jobs=1)]: Done   1 out of   1 | elapsed:    0.3s remaining:    0.0s\n"
          ],
          "name": "stderr"
        },
        {
          "output_type": "stream",
          "text": [
            "[CV]  n_estimators=200, min_samples_split=2, min_samples_leaf=2, max_features=sqrt, max_depth=1000, criterion=entropy, total=   0.3s\n",
            "[CV] n_estimators=200, min_samples_split=2, min_samples_leaf=2, max_features=sqrt, max_depth=1000, criterion=entropy \n",
            "[CV]  n_estimators=200, min_samples_split=2, min_samples_leaf=2, max_features=sqrt, max_depth=1000, criterion=entropy, total=   0.3s\n",
            "[CV] n_estimators=1400, min_samples_split=5, min_samples_leaf=6, max_features=sqrt, max_depth=120, criterion=gini \n",
            "[CV]  n_estimators=1400, min_samples_split=5, min_samples_leaf=6, max_features=sqrt, max_depth=120, criterion=gini, total=   2.1s\n",
            "[CV] n_estimators=1400, min_samples_split=5, min_samples_leaf=6, max_features=sqrt, max_depth=120, criterion=gini \n",
            "[CV]  n_estimators=1400, min_samples_split=5, min_samples_leaf=6, max_features=sqrt, max_depth=120, criterion=gini, total=   2.0s\n",
            "[CV] n_estimators=1400, min_samples_split=5, min_samples_leaf=6, max_features=sqrt, max_depth=120, criterion=gini \n",
            "[CV]  n_estimators=1400, min_samples_split=5, min_samples_leaf=6, max_features=sqrt, max_depth=120, criterion=gini, total=   2.1s\n",
            "[CV] n_estimators=2000, min_samples_split=14, min_samples_leaf=1, max_features=sqrt, max_depth=340, criterion=gini \n",
            "[CV]  n_estimators=2000, min_samples_split=14, min_samples_leaf=1, max_features=sqrt, max_depth=340, criterion=gini, total=   3.0s\n",
            "[CV] n_estimators=2000, min_samples_split=14, min_samples_leaf=1, max_features=sqrt, max_depth=340, criterion=gini \n",
            "[CV]  n_estimators=2000, min_samples_split=14, min_samples_leaf=1, max_features=sqrt, max_depth=340, criterion=gini, total=   3.0s\n",
            "[CV] n_estimators=2000, min_samples_split=14, min_samples_leaf=1, max_features=sqrt, max_depth=340, criterion=gini \n",
            "[CV]  n_estimators=2000, min_samples_split=14, min_samples_leaf=1, max_features=sqrt, max_depth=340, criterion=gini, total=   3.0s\n",
            "[CV] n_estimators=2000, min_samples_split=14, min_samples_leaf=2, max_features=auto, max_depth=10, criterion=entropy \n",
            "[CV]  n_estimators=2000, min_samples_split=14, min_samples_leaf=2, max_features=auto, max_depth=10, criterion=entropy, total=   3.2s\n",
            "[CV] n_estimators=2000, min_samples_split=14, min_samples_leaf=2, max_features=auto, max_depth=10, criterion=entropy \n",
            "[CV]  n_estimators=2000, min_samples_split=14, min_samples_leaf=2, max_features=auto, max_depth=10, criterion=entropy, total=   3.2s\n",
            "[CV] n_estimators=2000, min_samples_split=14, min_samples_leaf=2, max_features=auto, max_depth=10, criterion=entropy \n",
            "[CV]  n_estimators=2000, min_samples_split=14, min_samples_leaf=2, max_features=auto, max_depth=10, criterion=entropy, total=   3.2s\n",
            "[CV] n_estimators=200, min_samples_split=14, min_samples_leaf=6, max_features=sqrt, max_depth=10, criterion=entropy \n",
            "[CV]  n_estimators=200, min_samples_split=14, min_samples_leaf=6, max_features=sqrt, max_depth=10, criterion=entropy, total=   0.3s\n",
            "[CV] n_estimators=200, min_samples_split=14, min_samples_leaf=6, max_features=sqrt, max_depth=10, criterion=entropy \n",
            "[CV]  n_estimators=200, min_samples_split=14, min_samples_leaf=6, max_features=sqrt, max_depth=10, criterion=entropy, total=   0.3s\n",
            "[CV] n_estimators=200, min_samples_split=14, min_samples_leaf=6, max_features=sqrt, max_depth=10, criterion=entropy \n",
            "[CV]  n_estimators=200, min_samples_split=14, min_samples_leaf=6, max_features=sqrt, max_depth=10, criterion=entropy, total=   0.3s\n",
            "[CV] n_estimators=600, min_samples_split=2, min_samples_leaf=4, max_features=log2, max_depth=670, criterion=gini \n",
            "[CV]  n_estimators=600, min_samples_split=2, min_samples_leaf=4, max_features=log2, max_depth=670, criterion=gini, total=   0.9s\n",
            "[CV] n_estimators=600, min_samples_split=2, min_samples_leaf=4, max_features=log2, max_depth=670, criterion=gini \n",
            "[CV]  n_estimators=600, min_samples_split=2, min_samples_leaf=4, max_features=log2, max_depth=670, criterion=gini, total=   0.9s\n",
            "[CV] n_estimators=600, min_samples_split=2, min_samples_leaf=4, max_features=log2, max_depth=670, criterion=gini \n",
            "[CV]  n_estimators=600, min_samples_split=2, min_samples_leaf=4, max_features=log2, max_depth=670, criterion=gini, total=   0.9s\n",
            "[CV] n_estimators=2000, min_samples_split=10, min_samples_leaf=6, max_features=log2, max_depth=670, criterion=entropy \n",
            "[CV]  n_estimators=2000, min_samples_split=10, min_samples_leaf=6, max_features=log2, max_depth=670, criterion=entropy, total=   3.1s\n",
            "[CV] n_estimators=2000, min_samples_split=10, min_samples_leaf=6, max_features=log2, max_depth=670, criterion=entropy \n",
            "[CV]  n_estimators=2000, min_samples_split=10, min_samples_leaf=6, max_features=log2, max_depth=670, criterion=entropy, total=   3.1s\n",
            "[CV] n_estimators=2000, min_samples_split=10, min_samples_leaf=6, max_features=log2, max_depth=670, criterion=entropy \n",
            "[CV]  n_estimators=2000, min_samples_split=10, min_samples_leaf=6, max_features=log2, max_depth=670, criterion=entropy, total=   3.2s\n",
            "[CV] n_estimators=1400, min_samples_split=10, min_samples_leaf=4, max_features=auto, max_depth=340, criterion=gini \n",
            "[CV]  n_estimators=1400, min_samples_split=10, min_samples_leaf=4, max_features=auto, max_depth=340, criterion=gini, total=   2.1s\n",
            "[CV] n_estimators=1400, min_samples_split=10, min_samples_leaf=4, max_features=auto, max_depth=340, criterion=gini \n",
            "[CV]  n_estimators=1400, min_samples_split=10, min_samples_leaf=4, max_features=auto, max_depth=340, criterion=gini, total=   2.1s\n",
            "[CV] n_estimators=1400, min_samples_split=10, min_samples_leaf=4, max_features=auto, max_depth=340, criterion=gini \n",
            "[CV]  n_estimators=1400, min_samples_split=10, min_samples_leaf=4, max_features=auto, max_depth=340, criterion=gini, total=   2.1s\n",
            "[CV] n_estimators=1400, min_samples_split=2, min_samples_leaf=2, max_features=sqrt, max_depth=1000, criterion=entropy \n",
            "[CV]  n_estimators=1400, min_samples_split=2, min_samples_leaf=2, max_features=sqrt, max_depth=1000, criterion=entropy, total=   2.3s\n",
            "[CV] n_estimators=1400, min_samples_split=2, min_samples_leaf=2, max_features=sqrt, max_depth=1000, criterion=entropy \n",
            "[CV]  n_estimators=1400, min_samples_split=2, min_samples_leaf=2, max_features=sqrt, max_depth=1000, criterion=entropy, total=   2.3s\n",
            "[CV] n_estimators=1400, min_samples_split=2, min_samples_leaf=2, max_features=sqrt, max_depth=1000, criterion=entropy \n",
            "[CV]  n_estimators=1400, min_samples_split=2, min_samples_leaf=2, max_features=sqrt, max_depth=1000, criterion=entropy, total=   2.3s\n",
            "[CV] n_estimators=600, min_samples_split=2, min_samples_leaf=1, max_features=sqrt, max_depth=120, criterion=entropy \n",
            "[CV]  n_estimators=600, min_samples_split=2, min_samples_leaf=1, max_features=sqrt, max_depth=120, criterion=entropy, total=   1.0s\n",
            "[CV] n_estimators=600, min_samples_split=2, min_samples_leaf=1, max_features=sqrt, max_depth=120, criterion=entropy \n",
            "[CV]  n_estimators=600, min_samples_split=2, min_samples_leaf=1, max_features=sqrt, max_depth=120, criterion=entropy, total=   1.0s\n",
            "[CV] n_estimators=600, min_samples_split=2, min_samples_leaf=1, max_features=sqrt, max_depth=120, criterion=entropy \n",
            "[CV]  n_estimators=600, min_samples_split=2, min_samples_leaf=1, max_features=sqrt, max_depth=120, criterion=entropy, total=   1.0s\n",
            "[CV] n_estimators=600, min_samples_split=14, min_samples_leaf=8, max_features=auto, max_depth=890, criterion=gini \n",
            "[CV]  n_estimators=600, min_samples_split=14, min_samples_leaf=8, max_features=auto, max_depth=890, criterion=gini, total=   0.9s\n",
            "[CV] n_estimators=600, min_samples_split=14, min_samples_leaf=8, max_features=auto, max_depth=890, criterion=gini \n",
            "[CV]  n_estimators=600, min_samples_split=14, min_samples_leaf=8, max_features=auto, max_depth=890, criterion=gini, total=   0.9s\n",
            "[CV] n_estimators=600, min_samples_split=14, min_samples_leaf=8, max_features=auto, max_depth=890, criterion=gini \n",
            "[CV]  n_estimators=600, min_samples_split=14, min_samples_leaf=8, max_features=auto, max_depth=890, criterion=gini, total=   0.9s\n",
            "[CV] n_estimators=1400, min_samples_split=5, min_samples_leaf=8, max_features=auto, max_depth=780, criterion=entropy \n",
            "[CV]  n_estimators=1400, min_samples_split=5, min_samples_leaf=8, max_features=auto, max_depth=780, criterion=entropy, total=   2.1s\n",
            "[CV] n_estimators=1400, min_samples_split=5, min_samples_leaf=8, max_features=auto, max_depth=780, criterion=entropy \n",
            "[CV]  n_estimators=1400, min_samples_split=5, min_samples_leaf=8, max_features=auto, max_depth=780, criterion=entropy, total=   2.1s\n",
            "[CV] n_estimators=1400, min_samples_split=5, min_samples_leaf=8, max_features=auto, max_depth=780, criterion=entropy \n",
            "[CV]  n_estimators=1400, min_samples_split=5, min_samples_leaf=8, max_features=auto, max_depth=780, criterion=entropy, total=   2.1s\n",
            "[CV] n_estimators=400, min_samples_split=14, min_samples_leaf=2, max_features=sqrt, max_depth=670, criterion=gini \n",
            "[CV]  n_estimators=400, min_samples_split=14, min_samples_leaf=2, max_features=sqrt, max_depth=670, criterion=gini, total=   0.6s\n",
            "[CV] n_estimators=400, min_samples_split=14, min_samples_leaf=2, max_features=sqrt, max_depth=670, criterion=gini \n",
            "[CV]  n_estimators=400, min_samples_split=14, min_samples_leaf=2, max_features=sqrt, max_depth=670, criterion=gini, total=   0.6s\n",
            "[CV] n_estimators=400, min_samples_split=14, min_samples_leaf=2, max_features=sqrt, max_depth=670, criterion=gini \n",
            "[CV]  n_estimators=400, min_samples_split=14, min_samples_leaf=2, max_features=sqrt, max_depth=670, criterion=gini, total=   0.6s\n",
            "[CV] n_estimators=600, min_samples_split=5, min_samples_leaf=4, max_features=auto, max_depth=1000, criterion=gini \n",
            "[CV]  n_estimators=600, min_samples_split=5, min_samples_leaf=4, max_features=auto, max_depth=1000, criterion=gini, total=   0.9s\n",
            "[CV] n_estimators=600, min_samples_split=5, min_samples_leaf=4, max_features=auto, max_depth=1000, criterion=gini \n",
            "[CV]  n_estimators=600, min_samples_split=5, min_samples_leaf=4, max_features=auto, max_depth=1000, criterion=gini, total=   0.9s\n",
            "[CV] n_estimators=600, min_samples_split=5, min_samples_leaf=4, max_features=auto, max_depth=1000, criterion=gini \n",
            "[CV]  n_estimators=600, min_samples_split=5, min_samples_leaf=4, max_features=auto, max_depth=1000, criterion=gini, total=   0.9s\n",
            "[CV] n_estimators=400, min_samples_split=5, min_samples_leaf=4, max_features=log2, max_depth=670, criterion=gini \n",
            "[CV]  n_estimators=400, min_samples_split=5, min_samples_leaf=4, max_features=log2, max_depth=670, criterion=gini, total=   0.6s\n",
            "[CV] n_estimators=400, min_samples_split=5, min_samples_leaf=4, max_features=log2, max_depth=670, criterion=gini \n",
            "[CV]  n_estimators=400, min_samples_split=5, min_samples_leaf=4, max_features=log2, max_depth=670, criterion=gini, total=   0.6s\n",
            "[CV] n_estimators=400, min_samples_split=5, min_samples_leaf=4, max_features=log2, max_depth=670, criterion=gini \n",
            "[CV]  n_estimators=400, min_samples_split=5, min_samples_leaf=4, max_features=log2, max_depth=670, criterion=gini, total=   0.6s\n",
            "[CV] n_estimators=200, min_samples_split=10, min_samples_leaf=6, max_features=auto, max_depth=230, criterion=entropy \n",
            "[CV]  n_estimators=200, min_samples_split=10, min_samples_leaf=6, max_features=auto, max_depth=230, criterion=entropy, total=   0.3s\n",
            "[CV] n_estimators=200, min_samples_split=10, min_samples_leaf=6, max_features=auto, max_depth=230, criterion=entropy \n",
            "[CV]  n_estimators=200, min_samples_split=10, min_samples_leaf=6, max_features=auto, max_depth=230, criterion=entropy, total=   0.3s\n",
            "[CV] n_estimators=200, min_samples_split=10, min_samples_leaf=6, max_features=auto, max_depth=230, criterion=entropy \n",
            "[CV]  n_estimators=200, min_samples_split=10, min_samples_leaf=6, max_features=auto, max_depth=230, criterion=entropy, total=   0.3s\n",
            "[CV] n_estimators=1800, min_samples_split=5, min_samples_leaf=6, max_features=log2, max_depth=230, criterion=gini \n",
            "[CV]  n_estimators=1800, min_samples_split=5, min_samples_leaf=6, max_features=log2, max_depth=230, criterion=gini, total=   2.6s\n",
            "[CV] n_estimators=1800, min_samples_split=5, min_samples_leaf=6, max_features=log2, max_depth=230, criterion=gini \n",
            "[CV]  n_estimators=1800, min_samples_split=5, min_samples_leaf=6, max_features=log2, max_depth=230, criterion=gini, total=   2.7s\n",
            "[CV] n_estimators=1800, min_samples_split=5, min_samples_leaf=6, max_features=log2, max_depth=230, criterion=gini \n",
            "[CV]  n_estimators=1800, min_samples_split=5, min_samples_leaf=6, max_features=log2, max_depth=230, criterion=gini, total=   2.7s\n",
            "[CV] n_estimators=600, min_samples_split=14, min_samples_leaf=6, max_features=sqrt, max_depth=890, criterion=gini \n",
            "[CV]  n_estimators=600, min_samples_split=14, min_samples_leaf=6, max_features=sqrt, max_depth=890, criterion=gini, total=   0.9s\n",
            "[CV] n_estimators=600, min_samples_split=14, min_samples_leaf=6, max_features=sqrt, max_depth=890, criterion=gini \n",
            "[CV]  n_estimators=600, min_samples_split=14, min_samples_leaf=6, max_features=sqrt, max_depth=890, criterion=gini, total=   0.9s\n",
            "[CV] n_estimators=600, min_samples_split=14, min_samples_leaf=6, max_features=sqrt, max_depth=890, criterion=gini \n",
            "[CV]  n_estimators=600, min_samples_split=14, min_samples_leaf=6, max_features=sqrt, max_depth=890, criterion=gini, total=   0.9s\n",
            "[CV] n_estimators=800, min_samples_split=2, min_samples_leaf=6, max_features=auto, max_depth=670, criterion=gini \n",
            "[CV]  n_estimators=800, min_samples_split=2, min_samples_leaf=6, max_features=auto, max_depth=670, criterion=gini, total=   1.2s\n",
            "[CV] n_estimators=800, min_samples_split=2, min_samples_leaf=6, max_features=auto, max_depth=670, criterion=gini \n",
            "[CV]  n_estimators=800, min_samples_split=2, min_samples_leaf=6, max_features=auto, max_depth=670, criterion=gini, total=   1.2s\n",
            "[CV] n_estimators=800, min_samples_split=2, min_samples_leaf=6, max_features=auto, max_depth=670, criterion=gini \n",
            "[CV]  n_estimators=800, min_samples_split=2, min_samples_leaf=6, max_features=auto, max_depth=670, criterion=gini, total=   1.2s\n",
            "[CV] n_estimators=2000, min_samples_split=2, min_samples_leaf=8, max_features=sqrt, max_depth=1000, criterion=entropy \n",
            "[CV]  n_estimators=2000, min_samples_split=2, min_samples_leaf=8, max_features=sqrt, max_depth=1000, criterion=entropy, total=   3.0s\n",
            "[CV] n_estimators=2000, min_samples_split=2, min_samples_leaf=8, max_features=sqrt, max_depth=1000, criterion=entropy \n",
            "[CV]  n_estimators=2000, min_samples_split=2, min_samples_leaf=8, max_features=sqrt, max_depth=1000, criterion=entropy, total=   3.1s\n",
            "[CV] n_estimators=2000, min_samples_split=2, min_samples_leaf=8, max_features=sqrt, max_depth=1000, criterion=entropy \n",
            "[CV]  n_estimators=2000, min_samples_split=2, min_samples_leaf=8, max_features=sqrt, max_depth=1000, criterion=entropy, total=   3.0s\n",
            "[CV] n_estimators=200, min_samples_split=14, min_samples_leaf=1, max_features=sqrt, max_depth=10, criterion=gini \n",
            "[CV]  n_estimators=200, min_samples_split=14, min_samples_leaf=1, max_features=sqrt, max_depth=10, criterion=gini, total=   0.3s\n",
            "[CV] n_estimators=200, min_samples_split=14, min_samples_leaf=1, max_features=sqrt, max_depth=10, criterion=gini \n",
            "[CV]  n_estimators=200, min_samples_split=14, min_samples_leaf=1, max_features=sqrt, max_depth=10, criterion=gini, total=   0.3s\n",
            "[CV] n_estimators=200, min_samples_split=14, min_samples_leaf=1, max_features=sqrt, max_depth=10, criterion=gini \n",
            "[CV]  n_estimators=200, min_samples_split=14, min_samples_leaf=1, max_features=sqrt, max_depth=10, criterion=gini, total=   0.3s\n",
            "[CV] n_estimators=1000, min_samples_split=14, min_samples_leaf=1, max_features=auto, max_depth=450, criterion=entropy \n",
            "[CV]  n_estimators=1000, min_samples_split=14, min_samples_leaf=1, max_features=auto, max_depth=450, criterion=entropy, total=   1.7s\n",
            "[CV] n_estimators=1000, min_samples_split=14, min_samples_leaf=1, max_features=auto, max_depth=450, criterion=entropy \n",
            "[CV]  n_estimators=1000, min_samples_split=14, min_samples_leaf=1, max_features=auto, max_depth=450, criterion=entropy, total=   1.6s\n",
            "[CV] n_estimators=1000, min_samples_split=14, min_samples_leaf=1, max_features=auto, max_depth=450, criterion=entropy \n",
            "[CV]  n_estimators=1000, min_samples_split=14, min_samples_leaf=1, max_features=auto, max_depth=450, criterion=entropy, total=   1.7s\n",
            "[CV] n_estimators=1600, min_samples_split=10, min_samples_leaf=8, max_features=sqrt, max_depth=1000, criterion=entropy \n",
            "[CV]  n_estimators=1600, min_samples_split=10, min_samples_leaf=8, max_features=sqrt, max_depth=1000, criterion=entropy, total=   2.5s\n",
            "[CV] n_estimators=1600, min_samples_split=10, min_samples_leaf=8, max_features=sqrt, max_depth=1000, criterion=entropy \n",
            "[CV]  n_estimators=1600, min_samples_split=10, min_samples_leaf=8, max_features=sqrt, max_depth=1000, criterion=entropy, total=   2.4s\n",
            "[CV] n_estimators=1600, min_samples_split=10, min_samples_leaf=8, max_features=sqrt, max_depth=1000, criterion=entropy \n",
            "[CV]  n_estimators=1600, min_samples_split=10, min_samples_leaf=8, max_features=sqrt, max_depth=1000, criterion=entropy, total=   2.4s\n",
            "[CV] n_estimators=200, min_samples_split=10, min_samples_leaf=4, max_features=auto, max_depth=340, criterion=entropy \n",
            "[CV]  n_estimators=200, min_samples_split=10, min_samples_leaf=4, max_features=auto, max_depth=340, criterion=entropy, total=   0.3s\n",
            "[CV] n_estimators=200, min_samples_split=10, min_samples_leaf=4, max_features=auto, max_depth=340, criterion=entropy \n",
            "[CV]  n_estimators=200, min_samples_split=10, min_samples_leaf=4, max_features=auto, max_depth=340, criterion=entropy, total=   0.3s\n",
            "[CV] n_estimators=200, min_samples_split=10, min_samples_leaf=4, max_features=auto, max_depth=340, criterion=entropy \n",
            "[CV]  n_estimators=200, min_samples_split=10, min_samples_leaf=4, max_features=auto, max_depth=340, criterion=entropy, total=   0.3s\n",
            "[CV] n_estimators=1200, min_samples_split=5, min_samples_leaf=2, max_features=log2, max_depth=780, criterion=gini \n",
            "[CV]  n_estimators=1200, min_samples_split=5, min_samples_leaf=2, max_features=log2, max_depth=780, criterion=gini, total=   1.8s\n",
            "[CV] n_estimators=1200, min_samples_split=5, min_samples_leaf=2, max_features=log2, max_depth=780, criterion=gini \n",
            "[CV]  n_estimators=1200, min_samples_split=5, min_samples_leaf=2, max_features=log2, max_depth=780, criterion=gini, total=   1.8s\n",
            "[CV] n_estimators=1200, min_samples_split=5, min_samples_leaf=2, max_features=log2, max_depth=780, criterion=gini \n",
            "[CV]  n_estimators=1200, min_samples_split=5, min_samples_leaf=2, max_features=log2, max_depth=780, criterion=gini, total=   1.8s\n",
            "[CV] n_estimators=800, min_samples_split=14, min_samples_leaf=8, max_features=auto, max_depth=890, criterion=entropy \n",
            "[CV]  n_estimators=800, min_samples_split=14, min_samples_leaf=8, max_features=auto, max_depth=890, criterion=entropy, total=   1.2s\n",
            "[CV] n_estimators=800, min_samples_split=14, min_samples_leaf=8, max_features=auto, max_depth=890, criterion=entropy \n",
            "[CV]  n_estimators=800, min_samples_split=14, min_samples_leaf=8, max_features=auto, max_depth=890, criterion=entropy, total=   1.2s\n",
            "[CV] n_estimators=800, min_samples_split=14, min_samples_leaf=8, max_features=auto, max_depth=890, criterion=entropy \n",
            "[CV]  n_estimators=800, min_samples_split=14, min_samples_leaf=8, max_features=auto, max_depth=890, criterion=entropy, total=   1.2s\n",
            "[CV] n_estimators=800, min_samples_split=5, min_samples_leaf=1, max_features=sqrt, max_depth=560, criterion=entropy \n",
            "[CV]  n_estimators=800, min_samples_split=5, min_samples_leaf=1, max_features=sqrt, max_depth=560, criterion=entropy, total=   1.3s\n",
            "[CV] n_estimators=800, min_samples_split=5, min_samples_leaf=1, max_features=sqrt, max_depth=560, criterion=entropy \n",
            "[CV]  n_estimators=800, min_samples_split=5, min_samples_leaf=1, max_features=sqrt, max_depth=560, criterion=entropy, total=   1.4s\n",
            "[CV] n_estimators=800, min_samples_split=5, min_samples_leaf=1, max_features=sqrt, max_depth=560, criterion=entropy \n",
            "[CV]  n_estimators=800, min_samples_split=5, min_samples_leaf=1, max_features=sqrt, max_depth=560, criterion=entropy, total=   1.3s\n",
            "[CV] n_estimators=400, min_samples_split=10, min_samples_leaf=4, max_features=sqrt, max_depth=120, criterion=gini \n",
            "[CV]  n_estimators=400, min_samples_split=10, min_samples_leaf=4, max_features=sqrt, max_depth=120, criterion=gini, total=   0.6s\n",
            "[CV] n_estimators=400, min_samples_split=10, min_samples_leaf=4, max_features=sqrt, max_depth=120, criterion=gini \n",
            "[CV]  n_estimators=400, min_samples_split=10, min_samples_leaf=4, max_features=sqrt, max_depth=120, criterion=gini, total=   0.6s\n",
            "[CV] n_estimators=400, min_samples_split=10, min_samples_leaf=4, max_features=sqrt, max_depth=120, criterion=gini \n",
            "[CV]  n_estimators=400, min_samples_split=10, min_samples_leaf=4, max_features=sqrt, max_depth=120, criterion=gini, total=   0.6s\n",
            "[CV] n_estimators=800, min_samples_split=2, min_samples_leaf=2, max_features=log2, max_depth=1000, criterion=entropy \n",
            "[CV]  n_estimators=800, min_samples_split=2, min_samples_leaf=2, max_features=log2, max_depth=1000, criterion=entropy, total=   1.3s\n",
            "[CV] n_estimators=800, min_samples_split=2, min_samples_leaf=2, max_features=log2, max_depth=1000, criterion=entropy \n",
            "[CV]  n_estimators=800, min_samples_split=2, min_samples_leaf=2, max_features=log2, max_depth=1000, criterion=entropy, total=   1.3s\n",
            "[CV] n_estimators=800, min_samples_split=2, min_samples_leaf=2, max_features=log2, max_depth=1000, criterion=entropy \n",
            "[CV]  n_estimators=800, min_samples_split=2, min_samples_leaf=2, max_features=log2, max_depth=1000, criterion=entropy, total=   1.3s\n",
            "[CV] n_estimators=200, min_samples_split=10, min_samples_leaf=1, max_features=sqrt, max_depth=560, criterion=gini \n",
            "[CV]  n_estimators=200, min_samples_split=10, min_samples_leaf=1, max_features=sqrt, max_depth=560, criterion=gini, total=   0.3s\n",
            "[CV] n_estimators=200, min_samples_split=10, min_samples_leaf=1, max_features=sqrt, max_depth=560, criterion=gini \n",
            "[CV]  n_estimators=200, min_samples_split=10, min_samples_leaf=1, max_features=sqrt, max_depth=560, criterion=gini, total=   0.3s\n",
            "[CV] n_estimators=200, min_samples_split=10, min_samples_leaf=1, max_features=sqrt, max_depth=560, criterion=gini \n",
            "[CV]  n_estimators=200, min_samples_split=10, min_samples_leaf=1, max_features=sqrt, max_depth=560, criterion=gini, total=   0.3s\n",
            "[CV] n_estimators=800, min_samples_split=2, min_samples_leaf=2, max_features=auto, max_depth=890, criterion=gini \n",
            "[CV]  n_estimators=800, min_samples_split=2, min_samples_leaf=2, max_features=auto, max_depth=890, criterion=gini, total=   1.2s\n",
            "[CV] n_estimators=800, min_samples_split=2, min_samples_leaf=2, max_features=auto, max_depth=890, criterion=gini \n",
            "[CV]  n_estimators=800, min_samples_split=2, min_samples_leaf=2, max_features=auto, max_depth=890, criterion=gini, total=   1.2s\n",
            "[CV] n_estimators=800, min_samples_split=2, min_samples_leaf=2, max_features=auto, max_depth=890, criterion=gini \n",
            "[CV]  n_estimators=800, min_samples_split=2, min_samples_leaf=2, max_features=auto, max_depth=890, criterion=gini, total=   1.2s\n",
            "[CV] n_estimators=800, min_samples_split=2, min_samples_leaf=4, max_features=log2, max_depth=450, criterion=entropy \n",
            "[CV]  n_estimators=800, min_samples_split=2, min_samples_leaf=4, max_features=log2, max_depth=450, criterion=entropy, total=   1.3s\n",
            "[CV] n_estimators=800, min_samples_split=2, min_samples_leaf=4, max_features=log2, max_depth=450, criterion=entropy \n",
            "[CV]  n_estimators=800, min_samples_split=2, min_samples_leaf=4, max_features=log2, max_depth=450, criterion=entropy, total=   1.3s\n",
            "[CV] n_estimators=800, min_samples_split=2, min_samples_leaf=4, max_features=log2, max_depth=450, criterion=entropy \n",
            "[CV]  n_estimators=800, min_samples_split=2, min_samples_leaf=4, max_features=log2, max_depth=450, criterion=entropy, total=   1.3s\n",
            "[CV] n_estimators=400, min_samples_split=14, min_samples_leaf=1, max_features=auto, max_depth=780, criterion=entropy \n",
            "[CV]  n_estimators=400, min_samples_split=14, min_samples_leaf=1, max_features=auto, max_depth=780, criterion=entropy, total=   0.6s\n",
            "[CV] n_estimators=400, min_samples_split=14, min_samples_leaf=1, max_features=auto, max_depth=780, criterion=entropy \n",
            "[CV]  n_estimators=400, min_samples_split=14, min_samples_leaf=1, max_features=auto, max_depth=780, criterion=entropy, total=   0.6s\n",
            "[CV] n_estimators=400, min_samples_split=14, min_samples_leaf=1, max_features=auto, max_depth=780, criterion=entropy \n",
            "[CV]  n_estimators=400, min_samples_split=14, min_samples_leaf=1, max_features=auto, max_depth=780, criterion=entropy, total=   0.6s\n",
            "[CV] n_estimators=1200, min_samples_split=5, min_samples_leaf=4, max_features=sqrt, max_depth=1000, criterion=gini \n",
            "[CV]  n_estimators=1200, min_samples_split=5, min_samples_leaf=4, max_features=sqrt, max_depth=1000, criterion=gini, total=   1.8s\n",
            "[CV] n_estimators=1200, min_samples_split=5, min_samples_leaf=4, max_features=sqrt, max_depth=1000, criterion=gini \n",
            "[CV]  n_estimators=1200, min_samples_split=5, min_samples_leaf=4, max_features=sqrt, max_depth=1000, criterion=gini, total=   1.8s\n",
            "[CV] n_estimators=1200, min_samples_split=5, min_samples_leaf=4, max_features=sqrt, max_depth=1000, criterion=gini \n",
            "[CV]  n_estimators=1200, min_samples_split=5, min_samples_leaf=4, max_features=sqrt, max_depth=1000, criterion=gini, total=   1.8s\n",
            "[CV] n_estimators=2000, min_samples_split=2, min_samples_leaf=8, max_features=log2, max_depth=1000, criterion=gini \n",
            "[CV]  n_estimators=2000, min_samples_split=2, min_samples_leaf=8, max_features=log2, max_depth=1000, criterion=gini, total=   2.9s\n",
            "[CV] n_estimators=2000, min_samples_split=2, min_samples_leaf=8, max_features=log2, max_depth=1000, criterion=gini \n",
            "[CV]  n_estimators=2000, min_samples_split=2, min_samples_leaf=8, max_features=log2, max_depth=1000, criterion=gini, total=   2.9s\n",
            "[CV] n_estimators=2000, min_samples_split=2, min_samples_leaf=8, max_features=log2, max_depth=1000, criterion=gini \n",
            "[CV]  n_estimators=2000, min_samples_split=2, min_samples_leaf=8, max_features=log2, max_depth=1000, criterion=gini, total=   3.0s\n",
            "[CV] n_estimators=1600, min_samples_split=14, min_samples_leaf=6, max_features=sqrt, max_depth=780, criterion=gini \n",
            "[CV]  n_estimators=1600, min_samples_split=14, min_samples_leaf=6, max_features=sqrt, max_depth=780, criterion=gini, total=   2.3s\n",
            "[CV] n_estimators=1600, min_samples_split=14, min_samples_leaf=6, max_features=sqrt, max_depth=780, criterion=gini \n",
            "[CV]  n_estimators=1600, min_samples_split=14, min_samples_leaf=6, max_features=sqrt, max_depth=780, criterion=gini, total=   2.4s\n",
            "[CV] n_estimators=1600, min_samples_split=14, min_samples_leaf=6, max_features=sqrt, max_depth=780, criterion=gini \n",
            "[CV]  n_estimators=1600, min_samples_split=14, min_samples_leaf=6, max_features=sqrt, max_depth=780, criterion=gini, total=   2.3s\n",
            "[CV] n_estimators=1600, min_samples_split=2, min_samples_leaf=8, max_features=auto, max_depth=670, criterion=entropy \n",
            "[CV]  n_estimators=1600, min_samples_split=2, min_samples_leaf=8, max_features=auto, max_depth=670, criterion=entropy, total=   2.4s\n",
            "[CV] n_estimators=1600, min_samples_split=2, min_samples_leaf=8, max_features=auto, max_depth=670, criterion=entropy \n",
            "[CV]  n_estimators=1600, min_samples_split=2, min_samples_leaf=8, max_features=auto, max_depth=670, criterion=entropy, total=   2.5s\n",
            "[CV] n_estimators=1600, min_samples_split=2, min_samples_leaf=8, max_features=auto, max_depth=670, criterion=entropy \n",
            "[CV]  n_estimators=1600, min_samples_split=2, min_samples_leaf=8, max_features=auto, max_depth=670, criterion=entropy, total=   2.4s\n",
            "[CV] n_estimators=1600, min_samples_split=2, min_samples_leaf=1, max_features=log2, max_depth=890, criterion=gini \n",
            "[CV]  n_estimators=1600, min_samples_split=2, min_samples_leaf=1, max_features=log2, max_depth=890, criterion=gini, total=   2.5s\n",
            "[CV] n_estimators=1600, min_samples_split=2, min_samples_leaf=1, max_features=log2, max_depth=890, criterion=gini \n",
            "[CV]  n_estimators=1600, min_samples_split=2, min_samples_leaf=1, max_features=log2, max_depth=890, criterion=gini, total=   2.5s\n",
            "[CV] n_estimators=1600, min_samples_split=2, min_samples_leaf=1, max_features=log2, max_depth=890, criterion=gini \n",
            "[CV]  n_estimators=1600, min_samples_split=2, min_samples_leaf=1, max_features=log2, max_depth=890, criterion=gini, total=   2.5s\n",
            "[CV] n_estimators=2000, min_samples_split=5, min_samples_leaf=2, max_features=auto, max_depth=890, criterion=entropy \n",
            "[CV]  n_estimators=2000, min_samples_split=5, min_samples_leaf=2, max_features=auto, max_depth=890, criterion=entropy, total=   3.2s\n",
            "[CV] n_estimators=2000, min_samples_split=5, min_samples_leaf=2, max_features=auto, max_depth=890, criterion=entropy \n",
            "[CV]  n_estimators=2000, min_samples_split=5, min_samples_leaf=2, max_features=auto, max_depth=890, criterion=entropy, total=   3.2s\n",
            "[CV] n_estimators=2000, min_samples_split=5, min_samples_leaf=2, max_features=auto, max_depth=890, criterion=entropy \n",
            "[CV]  n_estimators=2000, min_samples_split=5, min_samples_leaf=2, max_features=auto, max_depth=890, criterion=entropy, total=   3.3s\n",
            "[CV] n_estimators=1800, min_samples_split=2, min_samples_leaf=1, max_features=log2, max_depth=560, criterion=entropy \n",
            "[CV]  n_estimators=1800, min_samples_split=2, min_samples_leaf=1, max_features=log2, max_depth=560, criterion=entropy, total=   3.0s\n",
            "[CV] n_estimators=1800, min_samples_split=2, min_samples_leaf=1, max_features=log2, max_depth=560, criterion=entropy \n",
            "[CV]  n_estimators=1800, min_samples_split=2, min_samples_leaf=1, max_features=log2, max_depth=560, criterion=entropy, total=   2.9s\n",
            "[CV] n_estimators=1800, min_samples_split=2, min_samples_leaf=1, max_features=log2, max_depth=560, criterion=entropy \n",
            "[CV]  n_estimators=1800, min_samples_split=2, min_samples_leaf=1, max_features=log2, max_depth=560, criterion=entropy, total=   3.1s\n",
            "[CV] n_estimators=600, min_samples_split=2, min_samples_leaf=1, max_features=auto, max_depth=10, criterion=entropy \n",
            "[CV]  n_estimators=600, min_samples_split=2, min_samples_leaf=1, max_features=auto, max_depth=10, criterion=entropy, total=   1.0s\n",
            "[CV] n_estimators=600, min_samples_split=2, min_samples_leaf=1, max_features=auto, max_depth=10, criterion=entropy \n",
            "[CV]  n_estimators=600, min_samples_split=2, min_samples_leaf=1, max_features=auto, max_depth=10, criterion=entropy, total=   1.0s\n",
            "[CV] n_estimators=600, min_samples_split=2, min_samples_leaf=1, max_features=auto, max_depth=10, criterion=entropy \n",
            "[CV]  n_estimators=600, min_samples_split=2, min_samples_leaf=1, max_features=auto, max_depth=10, criterion=entropy, total=   1.0s\n",
            "[CV] n_estimators=2000, min_samples_split=2, min_samples_leaf=4, max_features=sqrt, max_depth=120, criterion=entropy \n",
            "[CV]  n_estimators=2000, min_samples_split=2, min_samples_leaf=4, max_features=sqrt, max_depth=120, criterion=entropy, total=   3.1s\n",
            "[CV] n_estimators=2000, min_samples_split=2, min_samples_leaf=4, max_features=sqrt, max_depth=120, criterion=entropy \n",
            "[CV]  n_estimators=2000, min_samples_split=2, min_samples_leaf=4, max_features=sqrt, max_depth=120, criterion=entropy, total=   3.2s\n",
            "[CV] n_estimators=2000, min_samples_split=2, min_samples_leaf=4, max_features=sqrt, max_depth=120, criterion=entropy \n",
            "[CV]  n_estimators=2000, min_samples_split=2, min_samples_leaf=4, max_features=sqrt, max_depth=120, criterion=entropy, total=   3.2s\n",
            "[CV] n_estimators=800, min_samples_split=14, min_samples_leaf=4, max_features=log2, max_depth=780, criterion=entropy \n",
            "[CV]  n_estimators=800, min_samples_split=14, min_samples_leaf=4, max_features=log2, max_depth=780, criterion=entropy, total=   1.3s\n",
            "[CV] n_estimators=800, min_samples_split=14, min_samples_leaf=4, max_features=log2, max_depth=780, criterion=entropy \n",
            "[CV]  n_estimators=800, min_samples_split=14, min_samples_leaf=4, max_features=log2, max_depth=780, criterion=entropy, total=   1.3s\n",
            "[CV] n_estimators=800, min_samples_split=14, min_samples_leaf=4, max_features=log2, max_depth=780, criterion=entropy \n",
            "[CV]  n_estimators=800, min_samples_split=14, min_samples_leaf=4, max_features=log2, max_depth=780, criterion=entropy, total=   1.3s\n",
            "[CV] n_estimators=1400, min_samples_split=2, min_samples_leaf=6, max_features=auto, max_depth=450, criterion=entropy \n",
            "[CV]  n_estimators=1400, min_samples_split=2, min_samples_leaf=6, max_features=auto, max_depth=450, criterion=entropy, total=   2.2s\n",
            "[CV] n_estimators=1400, min_samples_split=2, min_samples_leaf=6, max_features=auto, max_depth=450, criterion=entropy \n",
            "[CV]  n_estimators=1400, min_samples_split=2, min_samples_leaf=6, max_features=auto, max_depth=450, criterion=entropy, total=   2.3s\n",
            "[CV] n_estimators=1400, min_samples_split=2, min_samples_leaf=6, max_features=auto, max_depth=450, criterion=entropy \n",
            "[CV]  n_estimators=1400, min_samples_split=2, min_samples_leaf=6, max_features=auto, max_depth=450, criterion=entropy, total=   2.2s\n",
            "[CV] n_estimators=2000, min_samples_split=5, min_samples_leaf=1, max_features=auto, max_depth=670, criterion=gini \n",
            "[CV]  n_estimators=2000, min_samples_split=5, min_samples_leaf=1, max_features=auto, max_depth=670, criterion=gini, total=   3.1s\n",
            "[CV] n_estimators=2000, min_samples_split=5, min_samples_leaf=1, max_features=auto, max_depth=670, criterion=gini \n",
            "[CV]  n_estimators=2000, min_samples_split=5, min_samples_leaf=1, max_features=auto, max_depth=670, criterion=gini, total=   3.1s\n",
            "[CV] n_estimators=2000, min_samples_split=5, min_samples_leaf=1, max_features=auto, max_depth=670, criterion=gini \n",
            "[CV]  n_estimators=2000, min_samples_split=5, min_samples_leaf=1, max_features=auto, max_depth=670, criterion=gini, total=   3.0s\n",
            "[CV] n_estimators=800, min_samples_split=10, min_samples_leaf=4, max_features=auto, max_depth=780, criterion=gini \n",
            "[CV]  n_estimators=800, min_samples_split=10, min_samples_leaf=4, max_features=auto, max_depth=780, criterion=gini, total=   1.2s\n",
            "[CV] n_estimators=800, min_samples_split=10, min_samples_leaf=4, max_features=auto, max_depth=780, criterion=gini \n",
            "[CV]  n_estimators=800, min_samples_split=10, min_samples_leaf=4, max_features=auto, max_depth=780, criterion=gini, total=   1.2s\n",
            "[CV] n_estimators=800, min_samples_split=10, min_samples_leaf=4, max_features=auto, max_depth=780, criterion=gini \n",
            "[CV]  n_estimators=800, min_samples_split=10, min_samples_leaf=4, max_features=auto, max_depth=780, criterion=gini, total=   1.2s\n",
            "[CV] n_estimators=800, min_samples_split=5, min_samples_leaf=2, max_features=sqrt, max_depth=560, criterion=entropy \n",
            "[CV]  n_estimators=800, min_samples_split=5, min_samples_leaf=2, max_features=sqrt, max_depth=560, criterion=entropy, total=   1.3s\n",
            "[CV] n_estimators=800, min_samples_split=5, min_samples_leaf=2, max_features=sqrt, max_depth=560, criterion=entropy \n",
            "[CV]  n_estimators=800, min_samples_split=5, min_samples_leaf=2, max_features=sqrt, max_depth=560, criterion=entropy, total=   1.3s\n",
            "[CV] n_estimators=800, min_samples_split=5, min_samples_leaf=2, max_features=sqrt, max_depth=560, criterion=entropy \n",
            "[CV]  n_estimators=800, min_samples_split=5, min_samples_leaf=2, max_features=sqrt, max_depth=560, criterion=entropy, total=   1.3s\n",
            "[CV] n_estimators=1400, min_samples_split=2, min_samples_leaf=1, max_features=sqrt, max_depth=230, criterion=gini \n",
            "[CV]  n_estimators=1400, min_samples_split=2, min_samples_leaf=1, max_features=sqrt, max_depth=230, criterion=gini, total=   2.2s\n",
            "[CV] n_estimators=1400, min_samples_split=2, min_samples_leaf=1, max_features=sqrt, max_depth=230, criterion=gini \n",
            "[CV]  n_estimators=1400, min_samples_split=2, min_samples_leaf=1, max_features=sqrt, max_depth=230, criterion=gini, total=   2.1s\n",
            "[CV] n_estimators=1400, min_samples_split=2, min_samples_leaf=1, max_features=sqrt, max_depth=230, criterion=gini \n",
            "[CV]  n_estimators=1400, min_samples_split=2, min_samples_leaf=1, max_features=sqrt, max_depth=230, criterion=gini, total=   2.2s\n",
            "[CV] n_estimators=1800, min_samples_split=14, min_samples_leaf=8, max_features=sqrt, max_depth=670, criterion=entropy \n",
            "[CV]  n_estimators=1800, min_samples_split=14, min_samples_leaf=8, max_features=sqrt, max_depth=670, criterion=entropy, total=   2.7s\n",
            "[CV] n_estimators=1800, min_samples_split=14, min_samples_leaf=8, max_features=sqrt, max_depth=670, criterion=entropy \n",
            "[CV]  n_estimators=1800, min_samples_split=14, min_samples_leaf=8, max_features=sqrt, max_depth=670, criterion=entropy, total=   2.8s\n",
            "[CV] n_estimators=1800, min_samples_split=14, min_samples_leaf=8, max_features=sqrt, max_depth=670, criterion=entropy \n",
            "[CV]  n_estimators=1800, min_samples_split=14, min_samples_leaf=8, max_features=sqrt, max_depth=670, criterion=entropy, total=   2.7s\n",
            "[CV] n_estimators=600, min_samples_split=14, min_samples_leaf=8, max_features=log2, max_depth=450, criterion=entropy \n",
            "[CV]  n_estimators=600, min_samples_split=14, min_samples_leaf=8, max_features=log2, max_depth=450, criterion=entropy, total=   0.9s\n",
            "[CV] n_estimators=600, min_samples_split=14, min_samples_leaf=8, max_features=log2, max_depth=450, criterion=entropy \n",
            "[CV]  n_estimators=600, min_samples_split=14, min_samples_leaf=8, max_features=log2, max_depth=450, criterion=entropy, total=   0.9s\n",
            "[CV] n_estimators=600, min_samples_split=14, min_samples_leaf=8, max_features=log2, max_depth=450, criterion=entropy \n",
            "[CV]  n_estimators=600, min_samples_split=14, min_samples_leaf=8, max_features=log2, max_depth=450, criterion=entropy, total=   0.9s\n",
            "[CV] n_estimators=1600, min_samples_split=2, min_samples_leaf=8, max_features=auto, max_depth=1000, criterion=gini \n",
            "[CV]  n_estimators=1600, min_samples_split=2, min_samples_leaf=8, max_features=auto, max_depth=1000, criterion=gini, total=   2.4s\n",
            "[CV] n_estimators=1600, min_samples_split=2, min_samples_leaf=8, max_features=auto, max_depth=1000, criterion=gini \n",
            "[CV]  n_estimators=1600, min_samples_split=2, min_samples_leaf=8, max_features=auto, max_depth=1000, criterion=gini, total=   2.3s\n",
            "[CV] n_estimators=1600, min_samples_split=2, min_samples_leaf=8, max_features=auto, max_depth=1000, criterion=gini \n",
            "[CV]  n_estimators=1600, min_samples_split=2, min_samples_leaf=8, max_features=auto, max_depth=1000, criterion=gini, total=   2.3s\n",
            "[CV] n_estimators=2000, min_samples_split=10, min_samples_leaf=6, max_features=sqrt, max_depth=670, criterion=entropy \n",
            "[CV]  n_estimators=2000, min_samples_split=10, min_samples_leaf=6, max_features=sqrt, max_depth=670, criterion=entropy, total=   3.1s\n",
            "[CV] n_estimators=2000, min_samples_split=10, min_samples_leaf=6, max_features=sqrt, max_depth=670, criterion=entropy \n",
            "[CV]  n_estimators=2000, min_samples_split=10, min_samples_leaf=6, max_features=sqrt, max_depth=670, criterion=entropy, total=   3.1s\n",
            "[CV] n_estimators=2000, min_samples_split=10, min_samples_leaf=6, max_features=sqrt, max_depth=670, criterion=entropy \n",
            "[CV]  n_estimators=2000, min_samples_split=10, min_samples_leaf=6, max_features=sqrt, max_depth=670, criterion=entropy, total=   3.2s\n",
            "[CV] n_estimators=1400, min_samples_split=2, min_samples_leaf=1, max_features=sqrt, max_depth=120, criterion=entropy \n",
            "[CV]  n_estimators=1400, min_samples_split=2, min_samples_leaf=1, max_features=sqrt, max_depth=120, criterion=entropy, total=   2.4s\n",
            "[CV] n_estimators=1400, min_samples_split=2, min_samples_leaf=1, max_features=sqrt, max_depth=120, criterion=entropy \n",
            "[CV]  n_estimators=1400, min_samples_split=2, min_samples_leaf=1, max_features=sqrt, max_depth=120, criterion=entropy, total=   2.5s\n",
            "[CV] n_estimators=1400, min_samples_split=2, min_samples_leaf=1, max_features=sqrt, max_depth=120, criterion=entropy \n",
            "[CV]  n_estimators=1400, min_samples_split=2, min_samples_leaf=1, max_features=sqrt, max_depth=120, criterion=entropy, total=   2.4s\n",
            "[CV] n_estimators=600, min_samples_split=5, min_samples_leaf=1, max_features=sqrt, max_depth=780, criterion=gini \n",
            "[CV]  n_estimators=600, min_samples_split=5, min_samples_leaf=1, max_features=sqrt, max_depth=780, criterion=gini, total=   1.0s\n",
            "[CV] n_estimators=600, min_samples_split=5, min_samples_leaf=1, max_features=sqrt, max_depth=780, criterion=gini \n",
            "[CV]  n_estimators=600, min_samples_split=5, min_samples_leaf=1, max_features=sqrt, max_depth=780, criterion=gini, total=   0.9s\n",
            "[CV] n_estimators=600, min_samples_split=5, min_samples_leaf=1, max_features=sqrt, max_depth=780, criterion=gini \n",
            "[CV]  n_estimators=600, min_samples_split=5, min_samples_leaf=1, max_features=sqrt, max_depth=780, criterion=gini, total=   0.9s\n",
            "[CV] n_estimators=1400, min_samples_split=10, min_samples_leaf=2, max_features=auto, max_depth=450, criterion=gini \n",
            "[CV]  n_estimators=1400, min_samples_split=10, min_samples_leaf=2, max_features=auto, max_depth=450, criterion=gini, total=   2.1s\n",
            "[CV] n_estimators=1400, min_samples_split=10, min_samples_leaf=2, max_features=auto, max_depth=450, criterion=gini \n",
            "[CV]  n_estimators=1400, min_samples_split=10, min_samples_leaf=2, max_features=auto, max_depth=450, criterion=gini, total=   2.1s\n",
            "[CV] n_estimators=1400, min_samples_split=10, min_samples_leaf=2, max_features=auto, max_depth=450, criterion=gini \n",
            "[CV]  n_estimators=1400, min_samples_split=10, min_samples_leaf=2, max_features=auto, max_depth=450, criterion=gini, total=   2.1s\n",
            "[CV] n_estimators=200, min_samples_split=2, min_samples_leaf=2, max_features=log2, max_depth=340, criterion=entropy \n",
            "[CV]  n_estimators=200, min_samples_split=2, min_samples_leaf=2, max_features=log2, max_depth=340, criterion=entropy, total=   0.4s\n",
            "[CV] n_estimators=200, min_samples_split=2, min_samples_leaf=2, max_features=log2, max_depth=340, criterion=entropy \n",
            "[CV]  n_estimators=200, min_samples_split=2, min_samples_leaf=2, max_features=log2, max_depth=340, criterion=entropy, total=   0.4s\n",
            "[CV] n_estimators=200, min_samples_split=2, min_samples_leaf=2, max_features=log2, max_depth=340, criterion=entropy \n",
            "[CV]  n_estimators=200, min_samples_split=2, min_samples_leaf=2, max_features=log2, max_depth=340, criterion=entropy, total=   0.3s\n",
            "[CV] n_estimators=1400, min_samples_split=5, min_samples_leaf=4, max_features=log2, max_depth=120, criterion=gini \n",
            "[CV]  n_estimators=1400, min_samples_split=5, min_samples_leaf=4, max_features=log2, max_depth=120, criterion=gini, total=   2.1s\n",
            "[CV] n_estimators=1400, min_samples_split=5, min_samples_leaf=4, max_features=log2, max_depth=120, criterion=gini \n",
            "[CV]  n_estimators=1400, min_samples_split=5, min_samples_leaf=4, max_features=log2, max_depth=120, criterion=gini, total=   2.1s\n",
            "[CV] n_estimators=1400, min_samples_split=5, min_samples_leaf=4, max_features=log2, max_depth=120, criterion=gini \n",
            "[CV]  n_estimators=1400, min_samples_split=5, min_samples_leaf=4, max_features=log2, max_depth=120, criterion=gini, total=   2.1s\n",
            "[CV] n_estimators=1000, min_samples_split=14, min_samples_leaf=2, max_features=log2, max_depth=120, criterion=gini \n",
            "[CV]  n_estimators=1000, min_samples_split=14, min_samples_leaf=2, max_features=log2, max_depth=120, criterion=gini, total=   1.5s\n",
            "[CV] n_estimators=1000, min_samples_split=14, min_samples_leaf=2, max_features=log2, max_depth=120, criterion=gini \n",
            "[CV]  n_estimators=1000, min_samples_split=14, min_samples_leaf=2, max_features=log2, max_depth=120, criterion=gini, total=   1.5s\n",
            "[CV] n_estimators=1000, min_samples_split=14, min_samples_leaf=2, max_features=log2, max_depth=120, criterion=gini \n",
            "[CV]  n_estimators=1000, min_samples_split=14, min_samples_leaf=2, max_features=log2, max_depth=120, criterion=gini, total=   1.5s\n",
            "[CV] n_estimators=800, min_samples_split=5, min_samples_leaf=6, max_features=sqrt, max_depth=780, criterion=entropy \n",
            "[CV]  n_estimators=800, min_samples_split=5, min_samples_leaf=6, max_features=sqrt, max_depth=780, criterion=entropy, total=   1.2s\n",
            "[CV] n_estimators=800, min_samples_split=5, min_samples_leaf=6, max_features=sqrt, max_depth=780, criterion=entropy \n",
            "[CV]  n_estimators=800, min_samples_split=5, min_samples_leaf=6, max_features=sqrt, max_depth=780, criterion=entropy, total=   1.2s\n",
            "[CV] n_estimators=800, min_samples_split=5, min_samples_leaf=6, max_features=sqrt, max_depth=780, criterion=entropy \n",
            "[CV]  n_estimators=800, min_samples_split=5, min_samples_leaf=6, max_features=sqrt, max_depth=780, criterion=entropy, total=   1.2s\n",
            "[CV] n_estimators=1800, min_samples_split=5, min_samples_leaf=6, max_features=log2, max_depth=230, criterion=entropy \n",
            "[CV]  n_estimators=1800, min_samples_split=5, min_samples_leaf=6, max_features=log2, max_depth=230, criterion=entropy, total=   2.8s\n",
            "[CV] n_estimators=1800, min_samples_split=5, min_samples_leaf=6, max_features=log2, max_depth=230, criterion=entropy \n",
            "[CV]  n_estimators=1800, min_samples_split=5, min_samples_leaf=6, max_features=log2, max_depth=230, criterion=entropy, total=   2.7s\n",
            "[CV] n_estimators=1800, min_samples_split=5, min_samples_leaf=6, max_features=log2, max_depth=230, criterion=entropy \n",
            "[CV]  n_estimators=1800, min_samples_split=5, min_samples_leaf=6, max_features=log2, max_depth=230, criterion=entropy, total=   2.7s\n",
            "[CV] n_estimators=2000, min_samples_split=2, min_samples_leaf=8, max_features=auto, max_depth=780, criterion=entropy \n",
            "[CV]  n_estimators=2000, min_samples_split=2, min_samples_leaf=8, max_features=auto, max_depth=780, criterion=entropy, total=   3.0s\n",
            "[CV] n_estimators=2000, min_samples_split=2, min_samples_leaf=8, max_features=auto, max_depth=780, criterion=entropy \n",
            "[CV]  n_estimators=2000, min_samples_split=2, min_samples_leaf=8, max_features=auto, max_depth=780, criterion=entropy, total=   3.0s\n",
            "[CV] n_estimators=2000, min_samples_split=2, min_samples_leaf=8, max_features=auto, max_depth=780, criterion=entropy \n",
            "[CV]  n_estimators=2000, min_samples_split=2, min_samples_leaf=8, max_features=auto, max_depth=780, criterion=entropy, total=   3.0s\n",
            "[CV] n_estimators=400, min_samples_split=10, min_samples_leaf=6, max_features=auto, max_depth=670, criterion=gini \n",
            "[CV]  n_estimators=400, min_samples_split=10, min_samples_leaf=6, max_features=auto, max_depth=670, criterion=gini, total=   0.6s\n",
            "[CV] n_estimators=400, min_samples_split=10, min_samples_leaf=6, max_features=auto, max_depth=670, criterion=gini \n",
            "[CV]  n_estimators=400, min_samples_split=10, min_samples_leaf=6, max_features=auto, max_depth=670, criterion=gini, total=   0.6s\n",
            "[CV] n_estimators=400, min_samples_split=10, min_samples_leaf=6, max_features=auto, max_depth=670, criterion=gini \n",
            "[CV]  n_estimators=400, min_samples_split=10, min_samples_leaf=6, max_features=auto, max_depth=670, criterion=gini, total=   0.6s\n",
            "[CV] n_estimators=200, min_samples_split=5, min_samples_leaf=1, max_features=log2, max_depth=450, criterion=gini \n",
            "[CV]  n_estimators=200, min_samples_split=5, min_samples_leaf=1, max_features=log2, max_depth=450, criterion=gini, total=   0.3s\n",
            "[CV] n_estimators=200, min_samples_split=5, min_samples_leaf=1, max_features=log2, max_depth=450, criterion=gini \n",
            "[CV]  n_estimators=200, min_samples_split=5, min_samples_leaf=1, max_features=log2, max_depth=450, criterion=gini, total=   0.3s\n",
            "[CV] n_estimators=200, min_samples_split=5, min_samples_leaf=1, max_features=log2, max_depth=450, criterion=gini \n",
            "[CV]  n_estimators=200, min_samples_split=5, min_samples_leaf=1, max_features=log2, max_depth=450, criterion=gini, total=   0.3s\n",
            "[CV] n_estimators=2000, min_samples_split=2, min_samples_leaf=1, max_features=log2, max_depth=340, criterion=gini \n",
            "[CV]  n_estimators=2000, min_samples_split=2, min_samples_leaf=1, max_features=log2, max_depth=340, criterion=gini, total=   3.1s\n",
            "[CV] n_estimators=2000, min_samples_split=2, min_samples_leaf=1, max_features=log2, max_depth=340, criterion=gini \n",
            "[CV]  n_estimators=2000, min_samples_split=2, min_samples_leaf=1, max_features=log2, max_depth=340, criterion=gini, total=   3.2s\n",
            "[CV] n_estimators=2000, min_samples_split=2, min_samples_leaf=1, max_features=log2, max_depth=340, criterion=gini \n",
            "[CV]  n_estimators=2000, min_samples_split=2, min_samples_leaf=1, max_features=log2, max_depth=340, criterion=gini, total=   3.1s\n",
            "[CV] n_estimators=400, min_samples_split=10, min_samples_leaf=1, max_features=auto, max_depth=230, criterion=gini \n",
            "[CV]  n_estimators=400, min_samples_split=10, min_samples_leaf=1, max_features=auto, max_depth=230, criterion=gini, total=   0.6s\n",
            "[CV] n_estimators=400, min_samples_split=10, min_samples_leaf=1, max_features=auto, max_depth=230, criterion=gini \n",
            "[CV]  n_estimators=400, min_samples_split=10, min_samples_leaf=1, max_features=auto, max_depth=230, criterion=gini, total=   0.6s\n",
            "[CV] n_estimators=400, min_samples_split=10, min_samples_leaf=1, max_features=auto, max_depth=230, criterion=gini \n",
            "[CV]  n_estimators=400, min_samples_split=10, min_samples_leaf=1, max_features=auto, max_depth=230, criterion=gini, total=   0.7s\n",
            "[CV] n_estimators=600, min_samples_split=5, min_samples_leaf=1, max_features=sqrt, max_depth=10, criterion=gini \n",
            "[CV]  n_estimators=600, min_samples_split=5, min_samples_leaf=1, max_features=sqrt, max_depth=10, criterion=gini, total=   0.9s\n",
            "[CV] n_estimators=600, min_samples_split=5, min_samples_leaf=1, max_features=sqrt, max_depth=10, criterion=gini \n",
            "[CV]  n_estimators=600, min_samples_split=5, min_samples_leaf=1, max_features=sqrt, max_depth=10, criterion=gini, total=   0.9s\n",
            "[CV] n_estimators=600, min_samples_split=5, min_samples_leaf=1, max_features=sqrt, max_depth=10, criterion=gini \n",
            "[CV]  n_estimators=600, min_samples_split=5, min_samples_leaf=1, max_features=sqrt, max_depth=10, criterion=gini, total=   0.9s\n",
            "[CV] n_estimators=1800, min_samples_split=2, min_samples_leaf=4, max_features=log2, max_depth=10, criterion=entropy \n",
            "[CV]  n_estimators=1800, min_samples_split=2, min_samples_leaf=4, max_features=log2, max_depth=10, criterion=entropy, total=   2.8s\n",
            "[CV] n_estimators=1800, min_samples_split=2, min_samples_leaf=4, max_features=log2, max_depth=10, criterion=entropy \n",
            "[CV]  n_estimators=1800, min_samples_split=2, min_samples_leaf=4, max_features=log2, max_depth=10, criterion=entropy, total=   2.8s\n",
            "[CV] n_estimators=1800, min_samples_split=2, min_samples_leaf=4, max_features=log2, max_depth=10, criterion=entropy \n",
            "[CV]  n_estimators=1800, min_samples_split=2, min_samples_leaf=4, max_features=log2, max_depth=10, criterion=entropy, total=   2.9s\n",
            "[CV] n_estimators=2000, min_samples_split=5, min_samples_leaf=1, max_features=log2, max_depth=560, criterion=entropy \n",
            "[CV]  n_estimators=2000, min_samples_split=5, min_samples_leaf=1, max_features=log2, max_depth=560, criterion=entropy, total=   3.3s\n",
            "[CV] n_estimators=2000, min_samples_split=5, min_samples_leaf=1, max_features=log2, max_depth=560, criterion=entropy \n",
            "[CV]  n_estimators=2000, min_samples_split=5, min_samples_leaf=1, max_features=log2, max_depth=560, criterion=entropy, total=   3.4s\n",
            "[CV] n_estimators=2000, min_samples_split=5, min_samples_leaf=1, max_features=log2, max_depth=560, criterion=entropy \n",
            "[CV]  n_estimators=2000, min_samples_split=5, min_samples_leaf=1, max_features=log2, max_depth=560, criterion=entropy, total=   3.4s\n",
            "[CV] n_estimators=800, min_samples_split=5, min_samples_leaf=6, max_features=auto, max_depth=890, criterion=gini \n",
            "[CV]  n_estimators=800, min_samples_split=5, min_samples_leaf=6, max_features=auto, max_depth=890, criterion=gini, total=   1.2s\n",
            "[CV] n_estimators=800, min_samples_split=5, min_samples_leaf=6, max_features=auto, max_depth=890, criterion=gini \n",
            "[CV]  n_estimators=800, min_samples_split=5, min_samples_leaf=6, max_features=auto, max_depth=890, criterion=gini, total=   1.2s\n",
            "[CV] n_estimators=800, min_samples_split=5, min_samples_leaf=6, max_features=auto, max_depth=890, criterion=gini \n",
            "[CV]  n_estimators=800, min_samples_split=5, min_samples_leaf=6, max_features=auto, max_depth=890, criterion=gini, total=   1.2s\n",
            "[CV] n_estimators=2000, min_samples_split=10, min_samples_leaf=4, max_features=log2, max_depth=670, criterion=entropy \n",
            "[CV]  n_estimators=2000, min_samples_split=10, min_samples_leaf=4, max_features=log2, max_depth=670, criterion=entropy, total=   3.2s\n",
            "[CV] n_estimators=2000, min_samples_split=10, min_samples_leaf=4, max_features=log2, max_depth=670, criterion=entropy \n",
            "[CV]  n_estimators=2000, min_samples_split=10, min_samples_leaf=4, max_features=log2, max_depth=670, criterion=entropy, total=   3.1s\n",
            "[CV] n_estimators=2000, min_samples_split=10, min_samples_leaf=4, max_features=log2, max_depth=670, criterion=entropy \n",
            "[CV]  n_estimators=2000, min_samples_split=10, min_samples_leaf=4, max_features=log2, max_depth=670, criterion=entropy, total=   3.1s\n",
            "[CV] n_estimators=1200, min_samples_split=10, min_samples_leaf=4, max_features=log2, max_depth=890, criterion=entropy \n",
            "[CV]  n_estimators=1200, min_samples_split=10, min_samples_leaf=4, max_features=log2, max_depth=890, criterion=entropy, total=   1.9s\n",
            "[CV] n_estimators=1200, min_samples_split=10, min_samples_leaf=4, max_features=log2, max_depth=890, criterion=entropy \n",
            "[CV]  n_estimators=1200, min_samples_split=10, min_samples_leaf=4, max_features=log2, max_depth=890, criterion=entropy, total=   1.9s\n",
            "[CV] n_estimators=1200, min_samples_split=10, min_samples_leaf=4, max_features=log2, max_depth=890, criterion=entropy \n",
            "[CV]  n_estimators=1200, min_samples_split=10, min_samples_leaf=4, max_features=log2, max_depth=890, criterion=entropy, total=   1.9s\n",
            "[CV] n_estimators=600, min_samples_split=2, min_samples_leaf=1, max_features=log2, max_depth=780, criterion=gini \n",
            "[CV]  n_estimators=600, min_samples_split=2, min_samples_leaf=1, max_features=log2, max_depth=780, criterion=gini, total=   1.0s\n",
            "[CV] n_estimators=600, min_samples_split=2, min_samples_leaf=1, max_features=log2, max_depth=780, criterion=gini \n",
            "[CV]  n_estimators=600, min_samples_split=2, min_samples_leaf=1, max_features=log2, max_depth=780, criterion=gini, total=   0.9s\n",
            "[CV] n_estimators=600, min_samples_split=2, min_samples_leaf=1, max_features=log2, max_depth=780, criterion=gini \n",
            "[CV]  n_estimators=600, min_samples_split=2, min_samples_leaf=1, max_features=log2, max_depth=780, criterion=gini, total=   1.0s\n",
            "[CV] n_estimators=1600, min_samples_split=10, min_samples_leaf=1, max_features=auto, max_depth=780, criterion=entropy \n",
            "[CV]  n_estimators=1600, min_samples_split=10, min_samples_leaf=1, max_features=auto, max_depth=780, criterion=entropy, total=   2.6s\n",
            "[CV] n_estimators=1600, min_samples_split=10, min_samples_leaf=1, max_features=auto, max_depth=780, criterion=entropy \n",
            "[CV]  n_estimators=1600, min_samples_split=10, min_samples_leaf=1, max_features=auto, max_depth=780, criterion=entropy, total=   2.6s\n",
            "[CV] n_estimators=1600, min_samples_split=10, min_samples_leaf=1, max_features=auto, max_depth=780, criterion=entropy \n",
            "[CV]  n_estimators=1600, min_samples_split=10, min_samples_leaf=1, max_features=auto, max_depth=780, criterion=entropy, total=   2.6s\n",
            "[CV] n_estimators=200, min_samples_split=14, min_samples_leaf=1, max_features=sqrt, max_depth=450, criterion=entropy \n",
            "[CV]  n_estimators=200, min_samples_split=14, min_samples_leaf=1, max_features=sqrt, max_depth=450, criterion=entropy, total=   0.3s\n",
            "[CV] n_estimators=200, min_samples_split=14, min_samples_leaf=1, max_features=sqrt, max_depth=450, criterion=entropy \n",
            "[CV]  n_estimators=200, min_samples_split=14, min_samples_leaf=1, max_features=sqrt, max_depth=450, criterion=entropy, total=   0.3s\n",
            "[CV] n_estimators=200, min_samples_split=14, min_samples_leaf=1, max_features=sqrt, max_depth=450, criterion=entropy \n",
            "[CV]  n_estimators=200, min_samples_split=14, min_samples_leaf=1, max_features=sqrt, max_depth=450, criterion=entropy, total=   0.3s\n",
            "[CV] n_estimators=1600, min_samples_split=10, min_samples_leaf=2, max_features=log2, max_depth=230, criterion=entropy \n",
            "[CV]  n_estimators=1600, min_samples_split=10, min_samples_leaf=2, max_features=log2, max_depth=230, criterion=entropy, total=   2.6s\n",
            "[CV] n_estimators=1600, min_samples_split=10, min_samples_leaf=2, max_features=log2, max_depth=230, criterion=entropy \n",
            "[CV]  n_estimators=1600, min_samples_split=10, min_samples_leaf=2, max_features=log2, max_depth=230, criterion=entropy, total=   2.6s\n",
            "[CV] n_estimators=1600, min_samples_split=10, min_samples_leaf=2, max_features=log2, max_depth=230, criterion=entropy \n",
            "[CV]  n_estimators=1600, min_samples_split=10, min_samples_leaf=2, max_features=log2, max_depth=230, criterion=entropy, total=   2.7s\n",
            "[CV] n_estimators=1800, min_samples_split=10, min_samples_leaf=1, max_features=log2, max_depth=560, criterion=gini \n",
            "[CV]  n_estimators=1800, min_samples_split=10, min_samples_leaf=1, max_features=log2, max_depth=560, criterion=gini, total=   2.8s\n",
            "[CV] n_estimators=1800, min_samples_split=10, min_samples_leaf=1, max_features=log2, max_depth=560, criterion=gini \n",
            "[CV]  n_estimators=1800, min_samples_split=10, min_samples_leaf=1, max_features=log2, max_depth=560, criterion=gini, total=   2.8s\n",
            "[CV] n_estimators=1800, min_samples_split=10, min_samples_leaf=1, max_features=log2, max_depth=560, criterion=gini \n",
            "[CV]  n_estimators=1800, min_samples_split=10, min_samples_leaf=1, max_features=log2, max_depth=560, criterion=gini, total=   2.8s\n",
            "[CV] n_estimators=1400, min_samples_split=10, min_samples_leaf=8, max_features=auto, max_depth=450, criterion=gini \n",
            "[CV]  n_estimators=1400, min_samples_split=10, min_samples_leaf=8, max_features=auto, max_depth=450, criterion=gini, total=   2.1s\n",
            "[CV] n_estimators=1400, min_samples_split=10, min_samples_leaf=8, max_features=auto, max_depth=450, criterion=gini \n",
            "[CV]  n_estimators=1400, min_samples_split=10, min_samples_leaf=8, max_features=auto, max_depth=450, criterion=gini, total=   2.1s\n",
            "[CV] n_estimators=1400, min_samples_split=10, min_samples_leaf=8, max_features=auto, max_depth=450, criterion=gini \n",
            "[CV]  n_estimators=1400, min_samples_split=10, min_samples_leaf=8, max_features=auto, max_depth=450, criterion=gini, total=   2.1s\n",
            "[CV] n_estimators=1400, min_samples_split=2, min_samples_leaf=8, max_features=sqrt, max_depth=1000, criterion=gini \n",
            "[CV]  n_estimators=1400, min_samples_split=2, min_samples_leaf=8, max_features=sqrt, max_depth=1000, criterion=gini, total=   2.1s\n",
            "[CV] n_estimators=1400, min_samples_split=2, min_samples_leaf=8, max_features=sqrt, max_depth=1000, criterion=gini \n",
            "[CV]  n_estimators=1400, min_samples_split=2, min_samples_leaf=8, max_features=sqrt, max_depth=1000, criterion=gini, total=   2.1s\n",
            "[CV] n_estimators=1400, min_samples_split=2, min_samples_leaf=8, max_features=sqrt, max_depth=1000, criterion=gini \n",
            "[CV]  n_estimators=1400, min_samples_split=2, min_samples_leaf=8, max_features=sqrt, max_depth=1000, criterion=gini, total=   2.1s\n",
            "[CV] n_estimators=400, min_samples_split=14, min_samples_leaf=8, max_features=sqrt, max_depth=780, criterion=entropy \n",
            "[CV]  n_estimators=400, min_samples_split=14, min_samples_leaf=8, max_features=sqrt, max_depth=780, criterion=entropy, total=   0.6s\n",
            "[CV] n_estimators=400, min_samples_split=14, min_samples_leaf=8, max_features=sqrt, max_depth=780, criterion=entropy \n",
            "[CV]  n_estimators=400, min_samples_split=14, min_samples_leaf=8, max_features=sqrt, max_depth=780, criterion=entropy, total=   0.6s\n",
            "[CV] n_estimators=400, min_samples_split=14, min_samples_leaf=8, max_features=sqrt, max_depth=780, criterion=entropy \n",
            "[CV]  n_estimators=400, min_samples_split=14, min_samples_leaf=8, max_features=sqrt, max_depth=780, criterion=entropy, total=   0.7s\n",
            "[CV] n_estimators=1200, min_samples_split=14, min_samples_leaf=1, max_features=log2, max_depth=450, criterion=gini \n",
            "[CV]  n_estimators=1200, min_samples_split=14, min_samples_leaf=1, max_features=log2, max_depth=450, criterion=gini, total=   1.9s\n",
            "[CV] n_estimators=1200, min_samples_split=14, min_samples_leaf=1, max_features=log2, max_depth=450, criterion=gini \n",
            "[CV]  n_estimators=1200, min_samples_split=14, min_samples_leaf=1, max_features=log2, max_depth=450, criterion=gini, total=   1.8s\n",
            "[CV] n_estimators=1200, min_samples_split=14, min_samples_leaf=1, max_features=log2, max_depth=450, criterion=gini \n",
            "[CV]  n_estimators=1200, min_samples_split=14, min_samples_leaf=1, max_features=log2, max_depth=450, criterion=gini, total=   1.9s\n",
            "[CV] n_estimators=400, min_samples_split=2, min_samples_leaf=6, max_features=log2, max_depth=450, criterion=entropy \n",
            "[CV]  n_estimators=400, min_samples_split=2, min_samples_leaf=6, max_features=log2, max_depth=450, criterion=entropy, total=   0.6s\n",
            "[CV] n_estimators=400, min_samples_split=2, min_samples_leaf=6, max_features=log2, max_depth=450, criterion=entropy \n",
            "[CV]  n_estimators=400, min_samples_split=2, min_samples_leaf=6, max_features=log2, max_depth=450, criterion=entropy, total=   0.6s\n",
            "[CV] n_estimators=400, min_samples_split=2, min_samples_leaf=6, max_features=log2, max_depth=450, criterion=entropy \n",
            "[CV]  n_estimators=400, min_samples_split=2, min_samples_leaf=6, max_features=log2, max_depth=450, criterion=entropy, total=   0.6s\n",
            "[CV] n_estimators=1000, min_samples_split=2, min_samples_leaf=2, max_features=auto, max_depth=1000, criterion=gini \n",
            "[CV]  n_estimators=1000, min_samples_split=2, min_samples_leaf=2, max_features=auto, max_depth=1000, criterion=gini, total=   1.5s\n",
            "[CV] n_estimators=1000, min_samples_split=2, min_samples_leaf=2, max_features=auto, max_depth=1000, criterion=gini \n",
            "[CV]  n_estimators=1000, min_samples_split=2, min_samples_leaf=2, max_features=auto, max_depth=1000, criterion=gini, total=   1.5s\n",
            "[CV] n_estimators=1000, min_samples_split=2, min_samples_leaf=2, max_features=auto, max_depth=1000, criterion=gini \n",
            "[CV]  n_estimators=1000, min_samples_split=2, min_samples_leaf=2, max_features=auto, max_depth=1000, criterion=gini, total=   1.6s\n",
            "[CV] n_estimators=1400, min_samples_split=14, min_samples_leaf=2, max_features=auto, max_depth=780, criterion=gini \n",
            "[CV]  n_estimators=1400, min_samples_split=14, min_samples_leaf=2, max_features=auto, max_depth=780, criterion=gini, total=   2.1s\n",
            "[CV] n_estimators=1400, min_samples_split=14, min_samples_leaf=2, max_features=auto, max_depth=780, criterion=gini \n",
            "[CV]  n_estimators=1400, min_samples_split=14, min_samples_leaf=2, max_features=auto, max_depth=780, criterion=gini, total=   2.1s\n",
            "[CV] n_estimators=1400, min_samples_split=14, min_samples_leaf=2, max_features=auto, max_depth=780, criterion=gini \n",
            "[CV]  n_estimators=1400, min_samples_split=14, min_samples_leaf=2, max_features=auto, max_depth=780, criterion=gini, total=   2.1s\n",
            "[CV] n_estimators=1600, min_samples_split=14, min_samples_leaf=8, max_features=log2, max_depth=230, criterion=entropy \n",
            "[CV]  n_estimators=1600, min_samples_split=14, min_samples_leaf=8, max_features=log2, max_depth=230, criterion=entropy, total=   2.5s\n",
            "[CV] n_estimators=1600, min_samples_split=14, min_samples_leaf=8, max_features=log2, max_depth=230, criterion=entropy \n",
            "[CV]  n_estimators=1600, min_samples_split=14, min_samples_leaf=8, max_features=log2, max_depth=230, criterion=entropy, total=   2.5s\n",
            "[CV] n_estimators=1600, min_samples_split=14, min_samples_leaf=8, max_features=log2, max_depth=230, criterion=entropy \n",
            "[CV]  n_estimators=1600, min_samples_split=14, min_samples_leaf=8, max_features=log2, max_depth=230, criterion=entropy, total=   2.4s\n",
            "[CV] n_estimators=2000, min_samples_split=14, min_samples_leaf=1, max_features=sqrt, max_depth=120, criterion=entropy \n",
            "[CV]  n_estimators=2000, min_samples_split=14, min_samples_leaf=1, max_features=sqrt, max_depth=120, criterion=entropy, total=   3.2s\n",
            "[CV] n_estimators=2000, min_samples_split=14, min_samples_leaf=1, max_features=sqrt, max_depth=120, criterion=entropy \n",
            "[CV]  n_estimators=2000, min_samples_split=14, min_samples_leaf=1, max_features=sqrt, max_depth=120, criterion=entropy, total=   3.3s\n",
            "[CV] n_estimators=2000, min_samples_split=14, min_samples_leaf=1, max_features=sqrt, max_depth=120, criterion=entropy \n",
            "[CV]  n_estimators=2000, min_samples_split=14, min_samples_leaf=1, max_features=sqrt, max_depth=120, criterion=entropy, total=   3.2s\n",
            "[CV] n_estimators=600, min_samples_split=10, min_samples_leaf=8, max_features=auto, max_depth=10, criterion=gini \n",
            "[CV]  n_estimators=600, min_samples_split=10, min_samples_leaf=8, max_features=auto, max_depth=10, criterion=gini, total=   0.9s\n",
            "[CV] n_estimators=600, min_samples_split=10, min_samples_leaf=8, max_features=auto, max_depth=10, criterion=gini \n",
            "[CV]  n_estimators=600, min_samples_split=10, min_samples_leaf=8, max_features=auto, max_depth=10, criterion=gini, total=   0.9s\n",
            "[CV] n_estimators=600, min_samples_split=10, min_samples_leaf=8, max_features=auto, max_depth=10, criterion=gini \n",
            "[CV]  n_estimators=600, min_samples_split=10, min_samples_leaf=8, max_features=auto, max_depth=10, criterion=gini, total=   0.9s\n",
            "[CV] n_estimators=1400, min_samples_split=2, min_samples_leaf=4, max_features=sqrt, max_depth=560, criterion=entropy \n",
            "[CV]  n_estimators=1400, min_samples_split=2, min_samples_leaf=4, max_features=sqrt, max_depth=560, criterion=entropy, total=   2.3s\n",
            "[CV] n_estimators=1400, min_samples_split=2, min_samples_leaf=4, max_features=sqrt, max_depth=560, criterion=entropy \n",
            "[CV]  n_estimators=1400, min_samples_split=2, min_samples_leaf=4, max_features=sqrt, max_depth=560, criterion=entropy, total=   2.3s\n",
            "[CV] n_estimators=1400, min_samples_split=2, min_samples_leaf=4, max_features=sqrt, max_depth=560, criterion=entropy \n",
            "[CV]  n_estimators=1400, min_samples_split=2, min_samples_leaf=4, max_features=sqrt, max_depth=560, criterion=entropy, total=   2.3s\n",
            "[CV] n_estimators=200, min_samples_split=5, min_samples_leaf=4, max_features=log2, max_depth=890, criterion=entropy \n",
            "[CV]  n_estimators=200, min_samples_split=5, min_samples_leaf=4, max_features=log2, max_depth=890, criterion=entropy, total=   0.3s\n",
            "[CV] n_estimators=200, min_samples_split=5, min_samples_leaf=4, max_features=log2, max_depth=890, criterion=entropy \n",
            "[CV]  n_estimators=200, min_samples_split=5, min_samples_leaf=4, max_features=log2, max_depth=890, criterion=entropy, total=   0.3s\n",
            "[CV] n_estimators=200, min_samples_split=5, min_samples_leaf=4, max_features=log2, max_depth=890, criterion=entropy \n",
            "[CV]  n_estimators=200, min_samples_split=5, min_samples_leaf=4, max_features=log2, max_depth=890, criterion=entropy, total=   0.3s\n",
            "[CV] n_estimators=600, min_samples_split=5, min_samples_leaf=4, max_features=sqrt, max_depth=890, criterion=gini \n",
            "[CV]  n_estimators=600, min_samples_split=5, min_samples_leaf=4, max_features=sqrt, max_depth=890, criterion=gini, total=   0.9s\n",
            "[CV] n_estimators=600, min_samples_split=5, min_samples_leaf=4, max_features=sqrt, max_depth=890, criterion=gini \n",
            "[CV]  n_estimators=600, min_samples_split=5, min_samples_leaf=4, max_features=sqrt, max_depth=890, criterion=gini, total=   0.9s\n",
            "[CV] n_estimators=600, min_samples_split=5, min_samples_leaf=4, max_features=sqrt, max_depth=890, criterion=gini \n",
            "[CV]  n_estimators=600, min_samples_split=5, min_samples_leaf=4, max_features=sqrt, max_depth=890, criterion=gini, total=   0.9s\n",
            "[CV] n_estimators=2000, min_samples_split=14, min_samples_leaf=1, max_features=sqrt, max_depth=10, criterion=gini \n",
            "[CV]  n_estimators=2000, min_samples_split=14, min_samples_leaf=1, max_features=sqrt, max_depth=10, criterion=gini, total=   3.0s\n",
            "[CV] n_estimators=2000, min_samples_split=14, min_samples_leaf=1, max_features=sqrt, max_depth=10, criterion=gini \n",
            "[CV]  n_estimators=2000, min_samples_split=14, min_samples_leaf=1, max_features=sqrt, max_depth=10, criterion=gini, total=   3.0s\n",
            "[CV] n_estimators=2000, min_samples_split=14, min_samples_leaf=1, max_features=sqrt, max_depth=10, criterion=gini \n",
            "[CV]  n_estimators=2000, min_samples_split=14, min_samples_leaf=1, max_features=sqrt, max_depth=10, criterion=gini, total=   2.9s\n",
            "[CV] n_estimators=1600, min_samples_split=14, min_samples_leaf=4, max_features=auto, max_depth=340, criterion=gini \n",
            "[CV]  n_estimators=1600, min_samples_split=14, min_samples_leaf=4, max_features=auto, max_depth=340, criterion=gini, total=   2.4s\n",
            "[CV] n_estimators=1600, min_samples_split=14, min_samples_leaf=4, max_features=auto, max_depth=340, criterion=gini \n",
            "[CV]  n_estimators=1600, min_samples_split=14, min_samples_leaf=4, max_features=auto, max_depth=340, criterion=gini, total=   2.3s\n",
            "[CV] n_estimators=1600, min_samples_split=14, min_samples_leaf=4, max_features=auto, max_depth=340, criterion=gini \n",
            "[CV]  n_estimators=1600, min_samples_split=14, min_samples_leaf=4, max_features=auto, max_depth=340, criterion=gini, total=   2.4s\n",
            "[CV] n_estimators=800, min_samples_split=10, min_samples_leaf=4, max_features=auto, max_depth=670, criterion=entropy \n",
            "[CV]  n_estimators=800, min_samples_split=10, min_samples_leaf=4, max_features=auto, max_depth=670, criterion=entropy, total=   1.3s\n",
            "[CV] n_estimators=800, min_samples_split=10, min_samples_leaf=4, max_features=auto, max_depth=670, criterion=entropy \n",
            "[CV]  n_estimators=800, min_samples_split=10, min_samples_leaf=4, max_features=auto, max_depth=670, criterion=entropy, total=   1.3s\n",
            "[CV] n_estimators=800, min_samples_split=10, min_samples_leaf=4, max_features=auto, max_depth=670, criterion=entropy \n",
            "[CV]  n_estimators=800, min_samples_split=10, min_samples_leaf=4, max_features=auto, max_depth=670, criterion=entropy, total=   1.3s\n",
            "[CV] n_estimators=2000, min_samples_split=2, min_samples_leaf=8, max_features=auto, max_depth=340, criterion=gini \n",
            "[CV]  n_estimators=2000, min_samples_split=2, min_samples_leaf=8, max_features=auto, max_depth=340, criterion=gini, total=   2.9s\n",
            "[CV] n_estimators=2000, min_samples_split=2, min_samples_leaf=8, max_features=auto, max_depth=340, criterion=gini \n",
            "[CV]  n_estimators=2000, min_samples_split=2, min_samples_leaf=8, max_features=auto, max_depth=340, criterion=gini, total=   2.9s\n",
            "[CV] n_estimators=2000, min_samples_split=2, min_samples_leaf=8, max_features=auto, max_depth=340, criterion=gini \n",
            "[CV]  n_estimators=2000, min_samples_split=2, min_samples_leaf=8, max_features=auto, max_depth=340, criterion=gini, total=   2.9s\n",
            "[CV] n_estimators=1000, min_samples_split=10, min_samples_leaf=1, max_features=sqrt, max_depth=230, criterion=gini \n",
            "[CV]  n_estimators=1000, min_samples_split=10, min_samples_leaf=1, max_features=sqrt, max_depth=230, criterion=gini, total=   1.6s\n",
            "[CV] n_estimators=1000, min_samples_split=10, min_samples_leaf=1, max_features=sqrt, max_depth=230, criterion=gini \n",
            "[CV]  n_estimators=1000, min_samples_split=10, min_samples_leaf=1, max_features=sqrt, max_depth=230, criterion=gini, total=   1.5s\n",
            "[CV] n_estimators=1000, min_samples_split=10, min_samples_leaf=1, max_features=sqrt, max_depth=230, criterion=gini \n",
            "[CV]  n_estimators=1000, min_samples_split=10, min_samples_leaf=1, max_features=sqrt, max_depth=230, criterion=gini, total=   1.5s\n",
            "[CV] n_estimators=600, min_samples_split=2, min_samples_leaf=1, max_features=sqrt, max_depth=890, criterion=gini \n",
            "[CV]  n_estimators=600, min_samples_split=2, min_samples_leaf=1, max_features=sqrt, max_depth=890, criterion=gini, total=   0.9s\n",
            "[CV] n_estimators=600, min_samples_split=2, min_samples_leaf=1, max_features=sqrt, max_depth=890, criterion=gini \n",
            "[CV]  n_estimators=600, min_samples_split=2, min_samples_leaf=1, max_features=sqrt, max_depth=890, criterion=gini, total=   1.0s\n",
            "[CV] n_estimators=600, min_samples_split=2, min_samples_leaf=1, max_features=sqrt, max_depth=890, criterion=gini \n",
            "[CV]  n_estimators=600, min_samples_split=2, min_samples_leaf=1, max_features=sqrt, max_depth=890, criterion=gini, total=   0.9s\n",
            "[CV] n_estimators=400, min_samples_split=14, min_samples_leaf=4, max_features=sqrt, max_depth=670, criterion=gini \n",
            "[CV]  n_estimators=400, min_samples_split=14, min_samples_leaf=4, max_features=sqrt, max_depth=670, criterion=gini, total=   0.6s\n",
            "[CV] n_estimators=400, min_samples_split=14, min_samples_leaf=4, max_features=sqrt, max_depth=670, criterion=gini \n",
            "[CV]  n_estimators=400, min_samples_split=14, min_samples_leaf=4, max_features=sqrt, max_depth=670, criterion=gini, total=   0.6s\n",
            "[CV] n_estimators=400, min_samples_split=14, min_samples_leaf=4, max_features=sqrt, max_depth=670, criterion=gini \n",
            "[CV]  n_estimators=400, min_samples_split=14, min_samples_leaf=4, max_features=sqrt, max_depth=670, criterion=gini, total=   0.6s\n",
            "[CV] n_estimators=1800, min_samples_split=5, min_samples_leaf=1, max_features=auto, max_depth=450, criterion=gini \n",
            "[CV]  n_estimators=1800, min_samples_split=5, min_samples_leaf=1, max_features=auto, max_depth=450, criterion=gini, total=   2.8s\n",
            "[CV] n_estimators=1800, min_samples_split=5, min_samples_leaf=1, max_features=auto, max_depth=450, criterion=gini \n",
            "[CV]  n_estimators=1800, min_samples_split=5, min_samples_leaf=1, max_features=auto, max_depth=450, criterion=gini, total=   2.8s\n",
            "[CV] n_estimators=1800, min_samples_split=5, min_samples_leaf=1, max_features=auto, max_depth=450, criterion=gini \n",
            "[CV]  n_estimators=1800, min_samples_split=5, min_samples_leaf=1, max_features=auto, max_depth=450, criterion=gini, total=   2.8s\n",
            "[CV] n_estimators=1600, min_samples_split=10, min_samples_leaf=4, max_features=auto, max_depth=560, criterion=gini \n",
            "[CV]  n_estimators=1600, min_samples_split=10, min_samples_leaf=4, max_features=auto, max_depth=560, criterion=gini, total=   2.4s\n",
            "[CV] n_estimators=1600, min_samples_split=10, min_samples_leaf=4, max_features=auto, max_depth=560, criterion=gini \n",
            "[CV]  n_estimators=1600, min_samples_split=10, min_samples_leaf=4, max_features=auto, max_depth=560, criterion=gini, total=   2.5s\n",
            "[CV] n_estimators=1600, min_samples_split=10, min_samples_leaf=4, max_features=auto, max_depth=560, criterion=gini \n",
            "[CV]  n_estimators=1600, min_samples_split=10, min_samples_leaf=4, max_features=auto, max_depth=560, criterion=gini, total=   2.4s\n",
            "[CV] n_estimators=1600, min_samples_split=14, min_samples_leaf=1, max_features=log2, max_depth=670, criterion=gini \n",
            "[CV]  n_estimators=1600, min_samples_split=14, min_samples_leaf=1, max_features=log2, max_depth=670, criterion=gini, total=   2.4s\n",
            "[CV] n_estimators=1600, min_samples_split=14, min_samples_leaf=1, max_features=log2, max_depth=670, criterion=gini \n",
            "[CV]  n_estimators=1600, min_samples_split=14, min_samples_leaf=1, max_features=log2, max_depth=670, criterion=gini, total=   2.4s\n",
            "[CV] n_estimators=1600, min_samples_split=14, min_samples_leaf=1, max_features=log2, max_depth=670, criterion=gini \n",
            "[CV]  n_estimators=1600, min_samples_split=14, min_samples_leaf=1, max_features=log2, max_depth=670, criterion=gini, total=   2.4s\n",
            "[CV] n_estimators=1000, min_samples_split=14, min_samples_leaf=4, max_features=auto, max_depth=890, criterion=entropy \n",
            "[CV]  n_estimators=1000, min_samples_split=14, min_samples_leaf=4, max_features=auto, max_depth=890, criterion=entropy, total=   1.6s\n",
            "[CV] n_estimators=1000, min_samples_split=14, min_samples_leaf=4, max_features=auto, max_depth=890, criterion=entropy \n",
            "[CV]  n_estimators=1000, min_samples_split=14, min_samples_leaf=4, max_features=auto, max_depth=890, criterion=entropy, total=   1.6s\n",
            "[CV] n_estimators=1000, min_samples_split=14, min_samples_leaf=4, max_features=auto, max_depth=890, criterion=entropy \n",
            "[CV]  n_estimators=1000, min_samples_split=14, min_samples_leaf=4, max_features=auto, max_depth=890, criterion=entropy, total=   1.6s\n"
          ],
          "name": "stdout"
        },
        {
          "output_type": "stream",
          "text": [
            "[Parallel(n_jobs=1)]: Done 300 out of 300 | elapsed:  8.8min finished\n"
          ],
          "name": "stderr"
        },
        {
          "output_type": "execute_result",
          "data": {
            "text/plain": [
              "RandomizedSearchCV(cv=3, error_score=nan,\n",
              "                   estimator=RandomForestClassifier(bootstrap=True,\n",
              "                                                    ccp_alpha=0.0,\n",
              "                                                    class_weight=None,\n",
              "                                                    criterion='gini',\n",
              "                                                    max_depth=None,\n",
              "                                                    max_features='auto',\n",
              "                                                    max_leaf_nodes=None,\n",
              "                                                    max_samples=None,\n",
              "                                                    min_impurity_decrease=0.0,\n",
              "                                                    min_impurity_split=None,\n",
              "                                                    min_samples_leaf=1,\n",
              "                                                    min_samples_split=2,\n",
              "                                                    min_weight_fraction_leaf=0.0,\n",
              "                                                    n_estimators=100,\n",
              "                                                    n_jobs...\n",
              "                   param_distributions={'criterion': ['entropy', 'gini'],\n",
              "                                        'max_depth': [10, 120, 230, 340, 450,\n",
              "                                                      560, 670, 780, 890,\n",
              "                                                      1000],\n",
              "                                        'max_features': ['auto', 'sqrt',\n",
              "                                                         'log2'],\n",
              "                                        'min_samples_leaf': [1, 2, 4, 6, 8],\n",
              "                                        'min_samples_split': [2, 5, 10, 14],\n",
              "                                        'n_estimators': [200, 400, 600, 800,\n",
              "                                                         1000, 1200, 1400, 1600,\n",
              "                                                         1800, 2000]},\n",
              "                   pre_dispatch='2*n_jobs', random_state=100, refit=True,\n",
              "                   return_train_score=False, scoring=None, verbose=2)"
            ]
          },
          "metadata": {
            "tags": []
          },
          "execution_count": 61
        }
      ]
    },
    {
      "cell_type": "code",
      "metadata": {
        "colab": {
          "base_uri": "https://localhost:8080/"
        },
        "id": "dLublwMqut0m",
        "outputId": "034c3e31-3ee4-493d-8dc2-e148bed726dd"
      },
      "source": [
        "rf_randomcv.best_params_"
      ],
      "execution_count": 62,
      "outputs": [
        {
          "output_type": "execute_result",
          "data": {
            "text/plain": [
              "{'criterion': 'entropy',\n",
              " 'max_depth': 10,\n",
              " 'max_features': 'sqrt',\n",
              " 'min_samples_leaf': 6,\n",
              " 'min_samples_split': 14,\n",
              " 'n_estimators': 200}"
            ]
          },
          "metadata": {
            "tags": []
          },
          "execution_count": 62
        }
      ]
    },
    {
      "cell_type": "code",
      "metadata": {
        "id": "-WCpkozq2ypv"
      },
      "source": [
        "# Fitting Random Forest by best parameter "
      ],
      "execution_count": 239,
      "outputs": []
    },
    {
      "cell_type": "code",
      "metadata": {
        "id": "kVrkk5KxySz0"
      },
      "source": [
        "model_1=RandomForestClassifier(criterion='entropy',max_depth=670,max_features='log2',min_samples_leaf=6,min_samples_split=10,n_estimators=2000)"
      ],
      "execution_count": 141,
      "outputs": []
    },
    {
      "cell_type": "code",
      "metadata": {
        "id": "J6AcWutYyxCl",
        "colab": {
          "base_uri": "https://localhost:8080/"
        },
        "outputId": "c0bb2c37-8999-4758-95c0-8b94886629e7"
      },
      "source": [
        "model_1.fit(X_train,y_train)"
      ],
      "execution_count": 142,
      "outputs": [
        {
          "output_type": "execute_result",
          "data": {
            "text/plain": [
              "RandomForestClassifier(bootstrap=True, ccp_alpha=0.0, class_weight=None,\n",
              "                       criterion='entropy', max_depth=670, max_features='log2',\n",
              "                       max_leaf_nodes=None, max_samples=None,\n",
              "                       min_impurity_decrease=0.0, min_impurity_split=None,\n",
              "                       min_samples_leaf=6, min_samples_split=10,\n",
              "                       min_weight_fraction_leaf=0.0, n_estimators=2000,\n",
              "                       n_jobs=None, oob_score=False, random_state=None,\n",
              "                       verbose=0, warm_start=False)"
            ]
          },
          "metadata": {
            "tags": []
          },
          "execution_count": 142
        }
      ]
    },
    {
      "cell_type": "code",
      "metadata": {
        "id": "0gzZNqLpyOqV"
      },
      "source": [
        "final_model=model_1.fit(X,y)"
      ],
      "execution_count": 143,
      "outputs": []
    },
    {
      "cell_type": "code",
      "metadata": {
        "colab": {
          "base_uri": "https://localhost:8080/"
        },
        "id": "P7IjeneWzVQ5",
        "outputId": "80209273-64c7-46f1-be86-96d02080e7d6"
      },
      "source": [
        "model_1.score(X_test,y_test)"
      ],
      "execution_count": 144,
      "outputs": [
        {
          "output_type": "execute_result",
          "data": {
            "text/plain": [
              "0.7747747747747747"
            ]
          },
          "metadata": {
            "tags": []
          },
          "execution_count": 144
        }
      ]
    },
    {
      "cell_type": "code",
      "metadata": {
        "colab": {
          "base_uri": "https://localhost:8080/"
        },
        "id": "BGcHiTW-zbBY",
        "outputId": "709dfed5-74f7-4745-8c8c-f03fa011b4ec"
      },
      "source": [
        "from sklearn.metrics import confusion_matrix\r\n",
        "confusion_matrix(y_test,model_1.predict(X_test))"
      ],
      "execution_count": 145,
      "outputs": [
        {
          "output_type": "execute_result",
          "data": {
            "text/plain": [
              "array([[13, 23],\n",
              "       [ 2, 73]])"
            ]
          },
          "metadata": {
            "tags": []
          },
          "execution_count": 145
        }
      ]
    },
    {
      "cell_type": "markdown",
      "metadata": {
        "id": "Da2RIC9CrFz8"
      },
      "source": [
        "**Classification Report**"
      ]
    },
    {
      "cell_type": "code",
      "metadata": {
        "colab": {
          "base_uri": "https://localhost:8080/"
        },
        "id": "CtYPFKk_2DBK",
        "outputId": "7a95ae9c-9da7-4b6d-c8b5-6819b1217ea9"
      },
      "source": [
        "from sklearn.metrics import classification_report\r\n",
        "print(classification_report(y_test,model_1.predict(X_test)))"
      ],
      "execution_count": 146,
      "outputs": [
        {
          "output_type": "stream",
          "text": [
            "              precision    recall  f1-score   support\n",
            "\n",
            "           0       0.87      0.36      0.51        36\n",
            "           1       0.76      0.97      0.85        75\n",
            "\n",
            "    accuracy                           0.77       111\n",
            "   macro avg       0.81      0.67      0.68       111\n",
            "weighted avg       0.79      0.77      0.74       111\n",
            "\n"
          ],
          "name": "stdout"
        }
      ]
    },
    {
      "cell_type": "markdown",
      "metadata": {
        "id": "oAo4qXUXrLZG"
      },
      "source": [
        "**Prediction by using Support vector algorithm**"
      ]
    },
    {
      "cell_type": "code",
      "metadata": {
        "colab": {
          "base_uri": "https://localhost:8080/"
        },
        "id": "R46CGa7OpdkD",
        "outputId": "1c9f19e0-880c-4ef0-f81f-66eeff39d32f"
      },
      "source": [
        "from sklearn.svm import SVC\r\n",
        "clf_1=SVC()\r\n",
        "clf_1.fit(X_train,y_train)\r\n"
      ],
      "execution_count": 147,
      "outputs": [
        {
          "output_type": "execute_result",
          "data": {
            "text/plain": [
              "SVC(C=1.0, break_ties=False, cache_size=200, class_weight=None, coef0=0.0,\n",
              "    decision_function_shape='ovr', degree=3, gamma='scale', kernel='rbf',\n",
              "    max_iter=-1, probability=False, random_state=None, shrinking=True,\n",
              "    tol=0.001, verbose=False)"
            ]
          },
          "metadata": {
            "tags": []
          },
          "execution_count": 147
        }
      ]
    },
    {
      "cell_type": "code",
      "metadata": {
        "colab": {
          "base_uri": "https://localhost:8080/"
        },
        "id": "FxH40UMUsskW",
        "outputId": "eef49ae1-72f6-4cde-b43d-d32147b0655a"
      },
      "source": [
        "clf_1.score(X_test,y_test)"
      ],
      "execution_count": 148,
      "outputs": [
        {
          "output_type": "execute_result",
          "data": {
            "text/plain": [
              "0.6756756756756757"
            ]
          },
          "metadata": {
            "tags": []
          },
          "execution_count": 148
        }
      ]
    },
    {
      "cell_type": "markdown",
      "metadata": {
        "id": "8Frc8kOSqnea"
      },
      "source": [
        "**#TEST DATA**"
      ]
    },
    {
      "cell_type": "code",
      "metadata": {
        "id": "KX9bNizXtpBT"
      },
      "source": [
        "working_directory = '/content/drive/MyDrive/Dataset/Loan Prediction/'\r\n",
        "test_df = pd.read_csv(working_directory + 'test_lAUu6dG.csv')"
      ],
      "execution_count": 150,
      "outputs": []
    },
    {
      "cell_type": "code",
      "metadata": {
        "colab": {
          "base_uri": "https://localhost:8080/",
          "height": 195
        },
        "id": "xTiO6x8Xtzhb",
        "outputId": "d667c23c-6f4f-4c14-a1b7-0a52a3dd177b"
      },
      "source": [
        "test_df.head()"
      ],
      "execution_count": 151,
      "outputs": [
        {
          "output_type": "execute_result",
          "data": {
            "text/html": [
              "<div>\n",
              "<style scoped>\n",
              "    .dataframe tbody tr th:only-of-type {\n",
              "        vertical-align: middle;\n",
              "    }\n",
              "\n",
              "    .dataframe tbody tr th {\n",
              "        vertical-align: top;\n",
              "    }\n",
              "\n",
              "    .dataframe thead th {\n",
              "        text-align: right;\n",
              "    }\n",
              "</style>\n",
              "<table border=\"1\" class=\"dataframe\">\n",
              "  <thead>\n",
              "    <tr style=\"text-align: right;\">\n",
              "      <th></th>\n",
              "      <th>Loan_ID</th>\n",
              "      <th>Gender</th>\n",
              "      <th>Married</th>\n",
              "      <th>Dependents</th>\n",
              "      <th>Education</th>\n",
              "      <th>Self_Employed</th>\n",
              "      <th>ApplicantIncome</th>\n",
              "      <th>CoapplicantIncome</th>\n",
              "      <th>LoanAmount</th>\n",
              "      <th>Loan_Amount_Term</th>\n",
              "      <th>Credit_History</th>\n",
              "      <th>Property_Area</th>\n",
              "    </tr>\n",
              "  </thead>\n",
              "  <tbody>\n",
              "    <tr>\n",
              "      <th>0</th>\n",
              "      <td>LP001015</td>\n",
              "      <td>Male</td>\n",
              "      <td>Yes</td>\n",
              "      <td>0</td>\n",
              "      <td>Graduate</td>\n",
              "      <td>No</td>\n",
              "      <td>5720</td>\n",
              "      <td>0</td>\n",
              "      <td>110.0</td>\n",
              "      <td>360.0</td>\n",
              "      <td>1.0</td>\n",
              "      <td>Urban</td>\n",
              "    </tr>\n",
              "    <tr>\n",
              "      <th>1</th>\n",
              "      <td>LP001022</td>\n",
              "      <td>Male</td>\n",
              "      <td>Yes</td>\n",
              "      <td>1</td>\n",
              "      <td>Graduate</td>\n",
              "      <td>No</td>\n",
              "      <td>3076</td>\n",
              "      <td>1500</td>\n",
              "      <td>126.0</td>\n",
              "      <td>360.0</td>\n",
              "      <td>1.0</td>\n",
              "      <td>Urban</td>\n",
              "    </tr>\n",
              "    <tr>\n",
              "      <th>2</th>\n",
              "      <td>LP001031</td>\n",
              "      <td>Male</td>\n",
              "      <td>Yes</td>\n",
              "      <td>2</td>\n",
              "      <td>Graduate</td>\n",
              "      <td>No</td>\n",
              "      <td>5000</td>\n",
              "      <td>1800</td>\n",
              "      <td>208.0</td>\n",
              "      <td>360.0</td>\n",
              "      <td>1.0</td>\n",
              "      <td>Urban</td>\n",
              "    </tr>\n",
              "    <tr>\n",
              "      <th>3</th>\n",
              "      <td>LP001035</td>\n",
              "      <td>Male</td>\n",
              "      <td>Yes</td>\n",
              "      <td>2</td>\n",
              "      <td>Graduate</td>\n",
              "      <td>No</td>\n",
              "      <td>2340</td>\n",
              "      <td>2546</td>\n",
              "      <td>100.0</td>\n",
              "      <td>360.0</td>\n",
              "      <td>NaN</td>\n",
              "      <td>Urban</td>\n",
              "    </tr>\n",
              "    <tr>\n",
              "      <th>4</th>\n",
              "      <td>LP001051</td>\n",
              "      <td>Male</td>\n",
              "      <td>No</td>\n",
              "      <td>0</td>\n",
              "      <td>Not Graduate</td>\n",
              "      <td>No</td>\n",
              "      <td>3276</td>\n",
              "      <td>0</td>\n",
              "      <td>78.0</td>\n",
              "      <td>360.0</td>\n",
              "      <td>1.0</td>\n",
              "      <td>Urban</td>\n",
              "    </tr>\n",
              "  </tbody>\n",
              "</table>\n",
              "</div>"
            ],
            "text/plain": [
              "    Loan_ID Gender Married  ... Loan_Amount_Term Credit_History Property_Area\n",
              "0  LP001015   Male     Yes  ...            360.0            1.0         Urban\n",
              "1  LP001022   Male     Yes  ...            360.0            1.0         Urban\n",
              "2  LP001031   Male     Yes  ...            360.0            1.0         Urban\n",
              "3  LP001035   Male     Yes  ...            360.0            NaN         Urban\n",
              "4  LP001051   Male      No  ...            360.0            1.0         Urban\n",
              "\n",
              "[5 rows x 12 columns]"
            ]
          },
          "metadata": {
            "tags": []
          },
          "execution_count": 151
        }
      ]
    },
    {
      "cell_type": "code",
      "metadata": {
        "colab": {
          "base_uri": "https://localhost:8080/"
        },
        "id": "CsofNiuwt5Rq",
        "outputId": "0370e610-ccaf-427e-eaa1-0d09df1debf4"
      },
      "source": [
        "test_df.info()"
      ],
      "execution_count": 152,
      "outputs": [
        {
          "output_type": "stream",
          "text": [
            "<class 'pandas.core.frame.DataFrame'>\n",
            "RangeIndex: 367 entries, 0 to 366\n",
            "Data columns (total 12 columns):\n",
            " #   Column             Non-Null Count  Dtype  \n",
            "---  ------             --------------  -----  \n",
            " 0   Loan_ID            367 non-null    object \n",
            " 1   Gender             356 non-null    object \n",
            " 2   Married            367 non-null    object \n",
            " 3   Dependents         357 non-null    object \n",
            " 4   Education          367 non-null    object \n",
            " 5   Self_Employed      344 non-null    object \n",
            " 6   ApplicantIncome    367 non-null    int64  \n",
            " 7   CoapplicantIncome  367 non-null    int64  \n",
            " 8   LoanAmount         362 non-null    float64\n",
            " 9   Loan_Amount_Term   361 non-null    float64\n",
            " 10  Credit_History     338 non-null    float64\n",
            " 11  Property_Area      367 non-null    object \n",
            "dtypes: float64(3), int64(2), object(7)\n",
            "memory usage: 34.5+ KB\n"
          ],
          "name": "stdout"
        }
      ]
    },
    {
      "cell_type": "code",
      "metadata": {
        "colab": {
          "base_uri": "https://localhost:8080/"
        },
        "id": "THOezgLvt9Qt",
        "outputId": "9644fb92-4629-4b5c-f42c-d297b00032ef"
      },
      "source": [
        "test_df.isnull().sum()"
      ],
      "execution_count": 153,
      "outputs": [
        {
          "output_type": "execute_result",
          "data": {
            "text/plain": [
              "Loan_ID               0\n",
              "Gender               11\n",
              "Married               0\n",
              "Dependents           10\n",
              "Education             0\n",
              "Self_Employed        23\n",
              "ApplicantIncome       0\n",
              "CoapplicantIncome     0\n",
              "LoanAmount            5\n",
              "Loan_Amount_Term      6\n",
              "Credit_History       29\n",
              "Property_Area         0\n",
              "dtype: int64"
            ]
          },
          "metadata": {
            "tags": []
          },
          "execution_count": 153
        }
      ]
    },
    {
      "cell_type": "code",
      "metadata": {
        "id": "EZReDB52u4yE"
      },
      "source": [
        "test_df['LoanAmount'].fillna(test_df['LoanAmount'].mean(), inplace=True)\r\n",
        "test_df['Credit_History'].fillna(1.0,inplace=True)\r\n",
        "test_df['Loan_Amount_Term'].fillna(360,inplace=True)\r\n",
        "test_df.dropna(inplace=True)"
      ],
      "execution_count": 154,
      "outputs": []
    },
    {
      "cell_type": "code",
      "metadata": {
        "colab": {
          "base_uri": "https://localhost:8080/"
        },
        "id": "UP4_v45UvlZi",
        "outputId": "b0fe5017-00e2-421a-b3ca-df8265b5b92b"
      },
      "source": [
        "test_df.isnull().sum()"
      ],
      "execution_count": 155,
      "outputs": [
        {
          "output_type": "execute_result",
          "data": {
            "text/plain": [
              "Loan_ID              0\n",
              "Gender               0\n",
              "Married              0\n",
              "Dependents           0\n",
              "Education            0\n",
              "Self_Employed        0\n",
              "ApplicantIncome      0\n",
              "CoapplicantIncome    0\n",
              "LoanAmount           0\n",
              "Loan_Amount_Term     0\n",
              "Credit_History       0\n",
              "Property_Area        0\n",
              "dtype: int64"
            ]
          },
          "metadata": {
            "tags": []
          },
          "execution_count": 155
        }
      ]
    },
    {
      "cell_type": "code",
      "metadata": {
        "id": "guGyt2Ufvqkb"
      },
      "source": [
        "test_df.loc[test_df['LoanAmount']>398,'LoanAmount']=398\r\n",
        "test_df.loc[test_df['ApplicantIncome']>14547,'ApplicantIncome']=14547\r\n",
        "test_df.loc[test_df['CoapplicantIncome']>9189,'CoapplicantIncome']=9189\r\n",
        "test_df.loc[test_df['Loan_Amount_Term']<149,'Loan_Amount_Term']=149\r\n",
        "test_df['Gender'].replace({'Male':1,'Female':0},inplace=True)\r\n",
        "test_df['Married'].replace({'Yes':1,'No':0},inplace=True)\r\n",
        "test_df['Education'].replace({'Graduate':1,'Not Graduate':0},inplace=True)\r\n",
        "test_df['Self_Employed'].replace({'Yes':1,'No':0},inplace=True)\r\n",
        "Property_Area=test_df[[\"Property_Area\"]]\r\n",
        "\r\n",
        "Property_Area = pd.get_dummies(Property_Area, drop_first= True)\r\n",
        "\r\n",
        "data_test=pd.concat([test_df,Property_Area],axis=1)\r\n",
        "data_test.drop(['Property_Area','Loan_ID','Dependents'],axis=1,inplace=True)"
      ],
      "execution_count": 156,
      "outputs": []
    },
    {
      "cell_type": "code",
      "metadata": {
        "colab": {
          "base_uri": "https://localhost:8080/",
          "height": 195
        },
        "id": "8Z1-Uq6Vxn0y",
        "outputId": "5b90eb4a-4f6f-4215-9512-e0de8e7bd9ca"
      },
      "source": [
        "data_test.head()"
      ],
      "execution_count": 157,
      "outputs": [
        {
          "output_type": "execute_result",
          "data": {
            "text/html": [
              "<div>\n",
              "<style scoped>\n",
              "    .dataframe tbody tr th:only-of-type {\n",
              "        vertical-align: middle;\n",
              "    }\n",
              "\n",
              "    .dataframe tbody tr th {\n",
              "        vertical-align: top;\n",
              "    }\n",
              "\n",
              "    .dataframe thead th {\n",
              "        text-align: right;\n",
              "    }\n",
              "</style>\n",
              "<table border=\"1\" class=\"dataframe\">\n",
              "  <thead>\n",
              "    <tr style=\"text-align: right;\">\n",
              "      <th></th>\n",
              "      <th>Gender</th>\n",
              "      <th>Married</th>\n",
              "      <th>Education</th>\n",
              "      <th>Self_Employed</th>\n",
              "      <th>ApplicantIncome</th>\n",
              "      <th>CoapplicantIncome</th>\n",
              "      <th>LoanAmount</th>\n",
              "      <th>Loan_Amount_Term</th>\n",
              "      <th>Credit_History</th>\n",
              "      <th>Property_Area_Semiurban</th>\n",
              "      <th>Property_Area_Urban</th>\n",
              "    </tr>\n",
              "  </thead>\n",
              "  <tbody>\n",
              "    <tr>\n",
              "      <th>0</th>\n",
              "      <td>1</td>\n",
              "      <td>1</td>\n",
              "      <td>1</td>\n",
              "      <td>0</td>\n",
              "      <td>5720</td>\n",
              "      <td>0</td>\n",
              "      <td>110.0</td>\n",
              "      <td>360.0</td>\n",
              "      <td>1.0</td>\n",
              "      <td>0</td>\n",
              "      <td>1</td>\n",
              "    </tr>\n",
              "    <tr>\n",
              "      <th>1</th>\n",
              "      <td>1</td>\n",
              "      <td>1</td>\n",
              "      <td>1</td>\n",
              "      <td>0</td>\n",
              "      <td>3076</td>\n",
              "      <td>1500</td>\n",
              "      <td>126.0</td>\n",
              "      <td>360.0</td>\n",
              "      <td>1.0</td>\n",
              "      <td>0</td>\n",
              "      <td>1</td>\n",
              "    </tr>\n",
              "    <tr>\n",
              "      <th>2</th>\n",
              "      <td>1</td>\n",
              "      <td>1</td>\n",
              "      <td>1</td>\n",
              "      <td>0</td>\n",
              "      <td>5000</td>\n",
              "      <td>1800</td>\n",
              "      <td>208.0</td>\n",
              "      <td>360.0</td>\n",
              "      <td>1.0</td>\n",
              "      <td>0</td>\n",
              "      <td>1</td>\n",
              "    </tr>\n",
              "    <tr>\n",
              "      <th>3</th>\n",
              "      <td>1</td>\n",
              "      <td>1</td>\n",
              "      <td>1</td>\n",
              "      <td>0</td>\n",
              "      <td>2340</td>\n",
              "      <td>2546</td>\n",
              "      <td>100.0</td>\n",
              "      <td>360.0</td>\n",
              "      <td>1.0</td>\n",
              "      <td>0</td>\n",
              "      <td>1</td>\n",
              "    </tr>\n",
              "    <tr>\n",
              "      <th>4</th>\n",
              "      <td>1</td>\n",
              "      <td>0</td>\n",
              "      <td>0</td>\n",
              "      <td>0</td>\n",
              "      <td>3276</td>\n",
              "      <td>0</td>\n",
              "      <td>78.0</td>\n",
              "      <td>360.0</td>\n",
              "      <td>1.0</td>\n",
              "      <td>0</td>\n",
              "      <td>1</td>\n",
              "    </tr>\n",
              "  </tbody>\n",
              "</table>\n",
              "</div>"
            ],
            "text/plain": [
              "   Gender  Married  ...  Property_Area_Semiurban  Property_Area_Urban\n",
              "0       1        1  ...                        0                    1\n",
              "1       1        1  ...                        0                    1\n",
              "2       1        1  ...                        0                    1\n",
              "3       1        1  ...                        0                    1\n",
              "4       1        0  ...                        0                    1\n",
              "\n",
              "[5 rows x 11 columns]"
            ]
          },
          "metadata": {
            "tags": []
          },
          "execution_count": 157
        }
      ]
    },
    {
      "cell_type": "code",
      "metadata": {
        "id": "JDJscT4vyGm0"
      },
      "source": [
        "final_pred=model_1.predict(data_test)"
      ],
      "execution_count": 158,
      "outputs": []
    },
    {
      "cell_type": "code",
      "metadata": {
        "id": "Xk22fPZgy6tY"
      },
      "source": [
        "pred=pd.DataFrame(final_pred)\r\n",
        "working_directory = '/content/drive/MyDrive/Dataset/Loan Prediction/'\r\n",
        "sub = pd.read_csv(working_directory + 'sample_submission_49d68Cx.csv')\r\n",
        "datasets=pd.concat([sub['Loan_ID'],pred],axis=1)\r\n",
        "datasets.columns=[\"Loan_ID\",\"Loan_Status\"]\r\n",
        "datasets.to_csv('sample_sub_1.csv',index=False)"
      ],
      "execution_count": 159,
      "outputs": []
    },
    {
      "cell_type": "code",
      "metadata": {
        "id": "axNwOvon0PiH"
      },
      "source": [
        ""
      ],
      "execution_count": 159,
      "outputs": []
    }
  ]
}